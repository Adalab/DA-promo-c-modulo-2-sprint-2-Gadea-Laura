{
  "cells": [
    {
      "cell_type": "markdown",
      "metadata": {
        "id": "9U1gyDf0jkLW"
      },
      "source": [
        "# ETL 1: Extracción"
      ]
    },
    {
      "cell_type": "code",
      "execution_count": 2,
      "metadata": {
        "id": "Ee_3BQp5jp6y"
      },
      "outputs": [],
      "source": [
        "from IPython.core.interactiveshell import InteractiveShell # Nos permite mostar más de una salida por celda\n",
        "InteractiveShell.ast_node_interactivity = \"all\" # Nos permite mostar más de una salida por celda\n",
        "\n",
        "import requests\n",
        "import pandas as pd\n",
        "import numpy as np"
      ]
    },
    {
      "cell_type": "code",
      "execution_count": 3,
      "metadata": {
        "id": "1cKaDFA-muHk"
      },
      "outputs": [],
      "source": [
        "dicc_paises = {\"USA\": [\"39.7837304\", \"-100.445882\"], \"Australia\": [\"-24.7761086\", \"134.755\"], \n",
        "               \"South Africa\": [\"-28.8166236\", \"24.991639\"], \"New Zealand\": [\"-41.5000831\", \"172.8344077\"], \n",
        "               \"Papua New Guinea\": [\"-5.6816069\", \"144.2489081\"]}\n",
        "\n",
        "  "
      ]
    },
    {
      "cell_type": "code",
      "execution_count": 4,
      "metadata": {
        "colab": {
          "base_uri": "https://localhost:8080/",
          "height": 1000
        },
        "id": "UDW4nZ3tmjrc",
        "outputId": "dc4d8cd2-991f-4b4b-c496-8df932febc5a"
      },
      "outputs": [
        {
          "data": {
            "text/html": [
              "<div>\n",
              "<style scoped>\n",
              "    .dataframe tbody tr th:only-of-type {\n",
              "        vertical-align: middle;\n",
              "    }\n",
              "\n",
              "    .dataframe tbody tr th {\n",
              "        vertical-align: top;\n",
              "    }\n",
              "\n",
              "    .dataframe thead th {\n",
              "        text-align: right;\n",
              "    }\n",
              "</style>\n",
              "<table border=\"1\" class=\"dataframe\">\n",
              "  <thead>\n",
              "    <tr style=\"text-align: right;\">\n",
              "      <th></th>\n",
              "      <th>timepoint</th>\n",
              "      <th>cloudcover</th>\n",
              "      <th>highcloud</th>\n",
              "      <th>midcloud</th>\n",
              "      <th>lowcloud</th>\n",
              "      <th>rh_profile</th>\n",
              "      <th>wind_profile</th>\n",
              "      <th>temp2m</th>\n",
              "      <th>lifted_index</th>\n",
              "      <th>rh2m</th>\n",
              "      <th>msl_pressure</th>\n",
              "      <th>prec_type</th>\n",
              "      <th>prec_amount</th>\n",
              "      <th>snow_depth</th>\n",
              "      <th>wind10m.direction</th>\n",
              "      <th>wind10m.speed</th>\n",
              "      <th>country</th>\n",
              "    </tr>\n",
              "  </thead>\n",
              "  <tbody>\n",
              "    <tr>\n",
              "      <th>0</th>\n",
              "      <td>3</td>\n",
              "      <td>9</td>\n",
              "      <td>-9999</td>\n",
              "      <td>-9999</td>\n",
              "      <td>-9999</td>\n",
              "      <td>[{'layer': '950mb', 'rh': 4}, {'layer': '900mb...</td>\n",
              "      <td>[{'layer': '950mb', 'direction': 320, 'speed':...</td>\n",
              "      <td>13</td>\n",
              "      <td>15</td>\n",
              "      <td>5</td>\n",
              "      <td>1024</td>\n",
              "      <td>none</td>\n",
              "      <td>0</td>\n",
              "      <td>0</td>\n",
              "      <td>265</td>\n",
              "      <td>2</td>\n",
              "      <td>USA</td>\n",
              "    </tr>\n",
              "    <tr>\n",
              "      <th>1</th>\n",
              "      <td>6</td>\n",
              "      <td>6</td>\n",
              "      <td>-9999</td>\n",
              "      <td>-9999</td>\n",
              "      <td>-9999</td>\n",
              "      <td>[{'layer': '950mb', 'rh': 3}, {'layer': '900mb...</td>\n",
              "      <td>[{'layer': '950mb', 'direction': 355, 'speed':...</td>\n",
              "      <td>12</td>\n",
              "      <td>15</td>\n",
              "      <td>5</td>\n",
              "      <td>1024</td>\n",
              "      <td>none</td>\n",
              "      <td>0</td>\n",
              "      <td>0</td>\n",
              "      <td>345</td>\n",
              "      <td>2</td>\n",
              "      <td>USA</td>\n",
              "    </tr>\n",
              "    <tr>\n",
              "      <th>2</th>\n",
              "      <td>9</td>\n",
              "      <td>2</td>\n",
              "      <td>-9999</td>\n",
              "      <td>-9999</td>\n",
              "      <td>-9999</td>\n",
              "      <td>[{'layer': '950mb', 'rh': 4}, {'layer': '900mb...</td>\n",
              "      <td>[{'layer': '950mb', 'direction': 5, 'speed': 2...</td>\n",
              "      <td>13</td>\n",
              "      <td>15</td>\n",
              "      <td>4</td>\n",
              "      <td>1024</td>\n",
              "      <td>none</td>\n",
              "      <td>0</td>\n",
              "      <td>0</td>\n",
              "      <td>260</td>\n",
              "      <td>2</td>\n",
              "      <td>USA</td>\n",
              "    </tr>\n",
              "    <tr>\n",
              "      <th>3</th>\n",
              "      <td>12</td>\n",
              "      <td>3</td>\n",
              "      <td>-9999</td>\n",
              "      <td>-9999</td>\n",
              "      <td>-9999</td>\n",
              "      <td>[{'layer': '950mb', 'rh': 4}, {'layer': '900mb...</td>\n",
              "      <td>[{'layer': '950mb', 'direction': 5, 'speed': 2...</td>\n",
              "      <td>15</td>\n",
              "      <td>10</td>\n",
              "      <td>2</td>\n",
              "      <td>1024</td>\n",
              "      <td>none</td>\n",
              "      <td>0</td>\n",
              "      <td>0</td>\n",
              "      <td>175</td>\n",
              "      <td>2</td>\n",
              "      <td>USA</td>\n",
              "    </tr>\n",
              "    <tr>\n",
              "      <th>4</th>\n",
              "      <td>15</td>\n",
              "      <td>6</td>\n",
              "      <td>-9999</td>\n",
              "      <td>-9999</td>\n",
              "      <td>-9999</td>\n",
              "      <td>[{'layer': '950mb', 'rh': 5}, {'layer': '900mb...</td>\n",
              "      <td>[{'layer': '950mb', 'direction': 265, 'speed':...</td>\n",
              "      <td>17</td>\n",
              "      <td>6</td>\n",
              "      <td>3</td>\n",
              "      <td>1024</td>\n",
              "      <td>none</td>\n",
              "      <td>0</td>\n",
              "      <td>0</td>\n",
              "      <td>350</td>\n",
              "      <td>2</td>\n",
              "      <td>USA</td>\n",
              "    </tr>\n",
              "  </tbody>\n",
              "</table>\n",
              "</div>"
            ],
            "text/plain": [
              "   timepoint  cloudcover  highcloud  midcloud  lowcloud  \\\n",
              "0          3           9      -9999     -9999     -9999   \n",
              "1          6           6      -9999     -9999     -9999   \n",
              "2          9           2      -9999     -9999     -9999   \n",
              "3         12           3      -9999     -9999     -9999   \n",
              "4         15           6      -9999     -9999     -9999   \n",
              "\n",
              "                                          rh_profile  \\\n",
              "0  [{'layer': '950mb', 'rh': 4}, {'layer': '900mb...   \n",
              "1  [{'layer': '950mb', 'rh': 3}, {'layer': '900mb...   \n",
              "2  [{'layer': '950mb', 'rh': 4}, {'layer': '900mb...   \n",
              "3  [{'layer': '950mb', 'rh': 4}, {'layer': '900mb...   \n",
              "4  [{'layer': '950mb', 'rh': 5}, {'layer': '900mb...   \n",
              "\n",
              "                                        wind_profile  temp2m  lifted_index  \\\n",
              "0  [{'layer': '950mb', 'direction': 320, 'speed':...      13            15   \n",
              "1  [{'layer': '950mb', 'direction': 355, 'speed':...      12            15   \n",
              "2  [{'layer': '950mb', 'direction': 5, 'speed': 2...      13            15   \n",
              "3  [{'layer': '950mb', 'direction': 5, 'speed': 2...      15            10   \n",
              "4  [{'layer': '950mb', 'direction': 265, 'speed':...      17             6   \n",
              "\n",
              "   rh2m  msl_pressure prec_type  prec_amount  snow_depth wind10m.direction  \\\n",
              "0     5          1024      none            0           0               265   \n",
              "1     5          1024      none            0           0               345   \n",
              "2     4          1024      none            0           0               260   \n",
              "3     2          1024      none            0           0               175   \n",
              "4     3          1024      none            0           0               350   \n",
              "\n",
              "   wind10m.speed country  \n",
              "0              2     USA  \n",
              "1              2     USA  \n",
              "2              2     USA  \n",
              "3              2     USA  \n",
              "4              2     USA  "
            ]
          },
          "execution_count": 4,
          "metadata": {},
          "output_type": "execute_result"
        }
      ],
      "source": [
        "df = pd.DataFrame()\n",
        "\n",
        "for keys, values in dicc_paises.items():\n",
        "\n",
        "    lat = values[0]\n",
        "    lon = values[1]\n",
        "    country = keys\n",
        "    producto = \"meteo\"\n",
        "\n",
        "    response = requests.get(url=f'http://www.7timer.info/bin/api.pl?lon=-{lon}&lat={lat}&product={producto}&output=json')\n",
        "    \n",
        "    df1 = pd.DataFrame.from_dict(pd.json_normalize(response.json(),[\"dataseries\"])) #añadimos \"dataseries\" para que nos separe esa información por columnas\n",
        "    df1[\"country\"] = keys\n",
        "    df = pd.concat([df, df1], axis = 0, ignore_index=True)\n",
        "\n",
        "df.head()\n"
      ]
    },
    {
      "cell_type": "code",
      "execution_count": 5,
      "metadata": {},
      "outputs": [
        {
          "data": {
            "text/plain": [
              "(320, 17)"
            ]
          },
          "execution_count": 5,
          "metadata": {},
          "output_type": "execute_result"
        }
      ],
      "source": [
        "df.shape"
      ]
    },
    {
      "cell_type": "code",
      "execution_count": 6,
      "metadata": {},
      "outputs": [
        {
          "data": {
            "text/plain": [
              "array(['USA', 'Australia', 'South Africa', 'New Zealand',\n",
              "       'Papua New Guinea'], dtype=object)"
            ]
          },
          "execution_count": 6,
          "metadata": {},
          "output_type": "execute_result"
        }
      ],
      "source": [
        "df['country'].unique()"
      ]
    },
    {
      "cell_type": "markdown",
      "metadata": {
        "id": "jfpZBQWikg4I"
      },
      "source": [
        "4. Guardar el dataframe obtenido para usarlo en la siguiente sesión de pair programming."
      ]
    },
    {
      "cell_type": "code",
      "execution_count": 7,
      "metadata": {
        "id": "vRpq13HfkjHa"
      },
      "outputs": [],
      "source": [
        "df.to_csv(\"datos/ETL-1.csv\")"
      ]
    }
  ],
  "metadata": {
    "colab": {
      "provenance": []
    },
    "kernelspec": {
      "display_name": "Python 3.9.7 ('base')",
      "language": "python",
      "name": "python3"
    },
    "language_info": {
      "codemirror_mode": {
        "name": "ipython",
        "version": 3
      },
      "file_extension": ".py",
      "mimetype": "text/x-python",
      "name": "python",
      "nbconvert_exporter": "python",
      "pygments_lexer": "ipython3",
      "version": "3.9.7"
    },
    "vscode": {
      "interpreter": {
        "hash": "a132548e790cb25f951c67ed157520233be95043d6eb3836371ed4d98e90df31"
      }
    }
  },
  "nbformat": 4,
  "nbformat_minor": 0
}
