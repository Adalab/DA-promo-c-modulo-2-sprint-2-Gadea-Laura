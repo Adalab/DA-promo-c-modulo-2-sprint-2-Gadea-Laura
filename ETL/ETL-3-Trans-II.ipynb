{
 "cells": [
  {
   "attachments": {},
   "cell_type": "markdown",
   "metadata": {},
   "source": [
    "# ETL 3: Transformación 2 - Clases y funciones de limpieza"
   ]
  },
  {
   "cell_type": "code",
   "execution_count": 7,
   "metadata": {},
   "outputs": [],
   "source": [
    "#importamos las librerías:\n",
    "\n",
    "from IPython.core.interactiveshell import InteractiveShell # Nos permite mostar más de una salida por celda\n",
    "InteractiveShell.ast_node_interactivity = \"all\" # Nos permite mostar más de una salida por celda\n",
    "\n",
    "import requests\n",
    "import pandas as pd\n",
    "import numpy as np\n",
    "import ast \n",
    "\n",
    "from datetime import datetime, timedelta\n",
    "\n",
    "pd.options.display.max_columns=None"
   ]
  },
  {
   "attachments": {},
   "cell_type": "markdown",
   "metadata": {},
   "source": [
    "Abrimos los DFs:"
   ]
  },
  {
   "cell_type": "code",
   "execution_count": 8,
   "metadata": {},
   "outputs": [
    {
     "data": {
      "text/html": [
       "<div>\n",
       "<style scoped>\n",
       "    .dataframe tbody tr th:only-of-type {\n",
       "        vertical-align: middle;\n",
       "    }\n",
       "\n",
       "    .dataframe tbody tr th {\n",
       "        vertical-align: top;\n",
       "    }\n",
       "\n",
       "    .dataframe thead th {\n",
       "        text-align: right;\n",
       "    }\n",
       "</style>\n",
       "<table border=\"1\" class=\"dataframe\">\n",
       "  <thead>\n",
       "    <tr style=\"text-align: right;\">\n",
       "      <th></th>\n",
       "      <th>timepoint</th>\n",
       "      <th>cloudcover</th>\n",
       "      <th>highcloud</th>\n",
       "      <th>midcloud</th>\n",
       "      <th>lowcloud</th>\n",
       "      <th>rh_profile</th>\n",
       "      <th>wind_profile</th>\n",
       "      <th>temp2m</th>\n",
       "      <th>lifted_index</th>\n",
       "      <th>rh2m</th>\n",
       "      <th>msl_pressure</th>\n",
       "      <th>prec_type</th>\n",
       "      <th>prec_amount</th>\n",
       "      <th>snow_depth</th>\n",
       "      <th>wind10m.direction</th>\n",
       "      <th>wind10m.speed</th>\n",
       "      <th>country</th>\n",
       "    </tr>\n",
       "  </thead>\n",
       "  <tbody>\n",
       "    <tr>\n",
       "      <th>0</th>\n",
       "      <td>3</td>\n",
       "      <td>9</td>\n",
       "      <td>-9999</td>\n",
       "      <td>-9999</td>\n",
       "      <td>-9999</td>\n",
       "      <td>[{'layer': '950mb', 'rh': 4}, {'layer': '900mb...</td>\n",
       "      <td>[{'layer': '950mb', 'direction': 320, 'speed':...</td>\n",
       "      <td>13</td>\n",
       "      <td>15</td>\n",
       "      <td>5</td>\n",
       "      <td>1024</td>\n",
       "      <td>none</td>\n",
       "      <td>0</td>\n",
       "      <td>0</td>\n",
       "      <td>265</td>\n",
       "      <td>2</td>\n",
       "      <td>USA</td>\n",
       "    </tr>\n",
       "    <tr>\n",
       "      <th>1</th>\n",
       "      <td>6</td>\n",
       "      <td>6</td>\n",
       "      <td>-9999</td>\n",
       "      <td>-9999</td>\n",
       "      <td>-9999</td>\n",
       "      <td>[{'layer': '950mb', 'rh': 3}, {'layer': '900mb...</td>\n",
       "      <td>[{'layer': '950mb', 'direction': 355, 'speed':...</td>\n",
       "      <td>12</td>\n",
       "      <td>15</td>\n",
       "      <td>5</td>\n",
       "      <td>1024</td>\n",
       "      <td>none</td>\n",
       "      <td>0</td>\n",
       "      <td>0</td>\n",
       "      <td>345</td>\n",
       "      <td>2</td>\n",
       "      <td>USA</td>\n",
       "    </tr>\n",
       "  </tbody>\n",
       "</table>\n",
       "</div>"
      ],
      "text/plain": [
       "   timepoint  cloudcover  highcloud  midcloud  lowcloud  \\\n",
       "0          3           9      -9999     -9999     -9999   \n",
       "1          6           6      -9999     -9999     -9999   \n",
       "\n",
       "                                          rh_profile  \\\n",
       "0  [{'layer': '950mb', 'rh': 4}, {'layer': '900mb...   \n",
       "1  [{'layer': '950mb', 'rh': 3}, {'layer': '900mb...   \n",
       "\n",
       "                                        wind_profile  temp2m  lifted_index  \\\n",
       "0  [{'layer': '950mb', 'direction': 320, 'speed':...      13            15   \n",
       "1  [{'layer': '950mb', 'direction': 355, 'speed':...      12            15   \n",
       "\n",
       "   rh2m  msl_pressure prec_type  prec_amount  snow_depth  wind10m.direction  \\\n",
       "0     5          1024      none            0           0                265   \n",
       "1     5          1024      none            0           0                345   \n",
       "\n",
       "   wind10m.speed country  \n",
       "0              2     USA  \n",
       "1              2     USA  "
      ]
     },
     "execution_count": 8,
     "metadata": {},
     "output_type": "execute_result"
    }
   ],
   "source": [
    "df = pd.read_csv('datos/ETL-1.csv', index_col=0)\n",
    "df.head(2)"
   ]
  },
  {
   "cell_type": "code",
   "execution_count": 9,
   "metadata": {},
   "outputs": [
    {
     "data": {
      "text/html": [
       "<div>\n",
       "<style scoped>\n",
       "    .dataframe tbody tr th:only-of-type {\n",
       "        vertical-align: middle;\n",
       "    }\n",
       "\n",
       "    .dataframe tbody tr th {\n",
       "        vertical-align: top;\n",
       "    }\n",
       "\n",
       "    .dataframe thead th {\n",
       "        text-align: right;\n",
       "    }\n",
       "</style>\n",
       "<table border=\"1\" class=\"dataframe\">\n",
       "  <thead>\n",
       "    <tr style=\"text-align: right;\">\n",
       "      <th></th>\n",
       "      <th>year</th>\n",
       "      <th>type</th>\n",
       "      <th>country</th>\n",
       "      <th>activity</th>\n",
       "      <th>age</th>\n",
       "      <th>species</th>\n",
       "      <th>month</th>\n",
       "      <th>fatal</th>\n",
       "      <th>sex</th>\n",
       "    </tr>\n",
       "  </thead>\n",
       "  <tbody>\n",
       "    <tr>\n",
       "      <th>0</th>\n",
       "      <td>2018</td>\n",
       "      <td>Boating</td>\n",
       "      <td>usa</td>\n",
       "      <td>Paddling</td>\n",
       "      <td>57.0</td>\n",
       "      <td>White Shark</td>\n",
       "      <td>Jun</td>\n",
       "      <td>N</td>\n",
       "      <td>F</td>\n",
       "    </tr>\n",
       "    <tr>\n",
       "      <th>1</th>\n",
       "      <td>2018</td>\n",
       "      <td>Unprovoked</td>\n",
       "      <td>brazil</td>\n",
       "      <td>Swimming</td>\n",
       "      <td>18.0</td>\n",
       "      <td>Tiger Shark</td>\n",
       "      <td>Jun</td>\n",
       "      <td>Y</td>\n",
       "      <td>M</td>\n",
       "    </tr>\n",
       "  </tbody>\n",
       "</table>\n",
       "</div>"
      ],
      "text/plain": [
       "   year        type country  activity   age      species month fatal sex\n",
       "0  2018     Boating     usa  Paddling  57.0  White Shark   Jun     N   F\n",
       "1  2018  Unprovoked  brazil  Swimming  18.0  Tiger Shark   Jun     Y   M"
      ]
     },
     "execution_count": 9,
     "metadata": {},
     "output_type": "execute_result"
    }
   ],
   "source": [
    "df1 = pd.read_csv('datos/Limpieza-4.csv', index_col=0)\n",
    "df1.head(2)"
   ]
  },
  {
   "cell_type": "code",
   "execution_count": 10,
   "metadata": {},
   "outputs": [],
   "source": [
    "class APIS: \n",
    "\n",
    "    def __init__(self, df, df1):\n",
    "\n",
    "    # definimos cada una de las variables. \n",
    "        self.df = df\n",
    "        self.df1 = df1\n",
    "\n",
    "    # definimos nuestro primer método, para la llamar a la API y crear un nuevo df\n",
    "\n",
    "    def creacion_df(self, nombre_df):\n",
    "\n",
    "        self.nombre_df = nombre_df\n",
    "        \n",
    "        #almacenamos las coordinadas y los países en un diccionario:\n",
    "        \n",
    "        dicc_paises = {\"USA\": [\"39.7837304\", \"-100.445882\"], \"Australia\": [\"-24.7761086\", \"134.755\"], \n",
    "               \"South Africa\": [\"-28.8166236\", \"24.991639\"], \"New Zealand\": [\"-41.5000831\", \"172.8344077\"], \n",
    "               \"Papua New Guinea\": [\"-5.6816069\", \"144.2489081\"]}\n",
    "        \n",
    "        nombre_df = pd.DataFrame()\n",
    "        \n",
    "        #generamos un bucle for para iterar los valores del diccionario en la url:\n",
    "        \n",
    "        for keys, values in dicc_paises.items():\n",
    "            lat = values[0]\n",
    "            lon = values[1]\n",
    "            country = keys\n",
    "            producto = \"meteo\"\n",
    "\n",
    "            response = requests.get(url=f'http://www.7timer.info/bin/api.pl?lon=-{lon}&lat={lat}&product={producto}&output=json')\n",
    "            \n",
    "            #almacenamos los resultados en un df desde un diccionario con el método 'from dict'\n",
    "            df1 = pd.DataFrame.from_dict(pd.json_normalize(response.json(),[\"dataseries\"])) #añadimos \"dataseries\" para que nos separe esa información por columnas\n",
    "            df1[\"country\"] = keys\n",
    "            nombre_df = pd.concat([nombre_df, df1], axis = 0, ignore_index=True)\n",
    "        \n",
    "        return nombre_df\n",
    "    \n",
    "    # definimos una función para filtrar los países que nos interesan.\n",
    "\n",
    "    def limpieza_attacks(self, df):\n",
    "\n",
    "        self.df = df\n",
    "\n",
    "        list_country = ['usa', 'australia', 'south africa', 'new zealand', 'papua new guinea']\n",
    "\n",
    "        df1 = df[df['country'].isin(list_country)]\n",
    "\n",
    "        return df1\n",
    "\n",
    "    # definimos las dos siguientes funciones para desempaquetar las columnas 'hr_profile y 'wind_profile', ya que sus valores eran diccionarios.\n",
    "    #generamos un for para volcar como valores y nombres de columnas los diccionarios encerrados en el valor de las columnas\n",
    "\n",
    "    def desempaquetar_columna_hr(self, df):\n",
    "\n",
    "        self.df = df\n",
    "\n",
    "        df['rh_profile'] = df['rh_profile'].apply(ast.literal_eval)\n",
    "        df_clima = df['rh_profile'].apply(pd.Series)\n",
    "\n",
    "        for i in range(len(df_clima.columns)):\n",
    "         nombre_rh = \"rh_\"+ str(df_clima[i].apply(pd.Series)[\"layer\"][0])\n",
    "         valores_rh = (df_clima[i].apply(pd.Series)[\"rh\"])\n",
    "\n",
    "         df.insert(i, nombre_rh, valores_rh)\n",
    "\n",
    "        return df\n",
    "    \n",
    "    #generamos un for para volcar como valores y nombres de columnas los diccionarios encerrados en el valor de las columnas\n",
    "\n",
    "    def desempaquetar_columna_wind(self, df):\n",
    "\n",
    "        self.df = df\n",
    "\n",
    "        df['wind_profile'] = df['wind_profile'].apply(ast.literal_eval)\n",
    "        df_wind = df['wind_profile'].apply(pd.Series)\n",
    "\n",
    "        for i in range(len(df_wind.columns)):\n",
    "         nombre_wd = \"wind_direction_\"+ str(df_wind[i].apply(pd.Series)[\"layer\"][0])\n",
    "         valores_wd = (df_wind[i].apply(pd.Series)[\"direction\"])\n",
    "\n",
    "         df.insert(i, nombre_wd, valores_wd)\n",
    "\n",
    "        for i in range(len(df_wind.columns)):\n",
    "            nombre_wd1 = \"wind_speed_\"+ str(df_wind[i].apply(pd.Series)[\"layer\"][0])\n",
    "            valores_wd1 = (df_wind[i].apply(pd.Series)[\"speed\"])\n",
    "\n",
    "            df.insert(i, nombre_wd1, valores_wd1)\n",
    "\n",
    "        return df\n",
    "\n",
    "    # la siguiente función borra esas mismas columnas, para eliminar la información redundante.\n",
    "\n",
    "    def borrar_redundantes(self, df):\n",
    "\n",
    "        self.df = df\n",
    "\n",
    "        df.drop(['rh_profile', 'wind_profile'], axis = 1, inplace=True)\n",
    "\n",
    "        return df\n",
    "\n",
    "    # mergeamos las columnas desempaquetadas al df de ataques de tiburón.\n",
    "\n",
    "    def merge_df(self, df, df1):\n",
    "\n",
    "        self.df = df\n",
    "        self.df1 = df1\n",
    "    \n",
    "        df['country'] = df['country'].str.lower()\n",
    "\n",
    "        df_groupby = df.groupby([\"country\"])[df.columns].mean().reset_index()\n",
    "        df_merge = df1.merge(df_groupby, how='outer', on = 'country', right_on= None, left_on=None)\n",
    "       \n",
    "        return df_merge\n",
    "\n",
    "    # guardamos nuestro dataframe limpio.\n",
    "\n",
    "    def guardar_csv(self, df):\n",
    "\n",
    "        self.df = df\n",
    "\n",
    "        df.to_csv('datos/ETL-3.csv', index=False)\n"
   ]
  },
  {
   "cell_type": "markdown",
   "metadata": {},
   "source": [
    "### Aplicamos la clase:"
   ]
  },
  {
   "attachments": {},
   "cell_type": "markdown",
   "metadata": {},
   "source": [
    "Iremos concatenando los resultados de las funciones de las clases, ya que nos devolverán un dataframe modificado con el código de las funciones."
   ]
  },
  {
   "attachments": {},
   "cell_type": "markdown",
   "metadata": {},
   "source": [
    "1. Almacenamos la clase en una variable."
   ]
  },
  {
   "cell_type": "code",
   "execution_count": 11,
   "metadata": {},
   "outputs": [],
   "source": [
    "clase = APIS(df, df1)"
   ]
  },
  {
   "attachments": {},
   "cell_type": "markdown",
   "metadata": {},
   "source": [
    "2. Creamos el df a partir de la llamada al API."
   ]
  },
  {
   "cell_type": "code",
   "execution_count": 12,
   "metadata": {},
   "outputs": [],
   "source": [
    "df_a = clase.creacion_df(df)"
   ]
  },
  {
   "attachments": {},
   "cell_type": "markdown",
   "metadata": {},
   "source": [
    "3. Filtramos los países que nos interesan en el df anterior."
   ]
  },
  {
   "cell_type": "code",
   "execution_count": 13,
   "metadata": {},
   "outputs": [],
   "source": [
    "df_b = clase.limpieza_attacks(df1)"
   ]
  },
  {
   "attachments": {},
   "cell_type": "markdown",
   "metadata": {},
   "source": [
    "4. Desempaquetamos las dos columnas que contenían un diccionario y las volcamos en nuevas columnas."
   ]
  },
  {
   "cell_type": "code",
   "execution_count": 14,
   "metadata": {},
   "outputs": [],
   "source": [
    "df_c = clase.desempaquetar_columna_hr(df)"
   ]
  },
  {
   "cell_type": "code",
   "execution_count": 15,
   "metadata": {},
   "outputs": [],
   "source": [
    "df_d = clase.desempaquetar_columna_wind(df_c)"
   ]
  },
  {
   "attachments": {},
   "cell_type": "markdown",
   "metadata": {},
   "source": [
    "5. Borramos de nuestro df las columnas que contenían el diccionario para evitar información duplicada."
   ]
  },
  {
   "cell_type": "code",
   "execution_count": 16,
   "metadata": {},
   "outputs": [],
   "source": [
    "df_e = clase.borrar_redundantes(df_d)"
   ]
  },
  {
   "attachments": {},
   "cell_type": "markdown",
   "metadata": {},
   "source": [
    "6. Guardamos los datos en un csv."
   ]
  },
  {
   "cell_type": "code",
   "execution_count": 17,
   "metadata": {},
   "outputs": [],
   "source": [
    "df_f = clase.guardar_csv(df_e)"
   ]
  }
 ],
 "metadata": {
  "kernelspec": {
   "display_name": "Python 3",
   "language": "python",
   "name": "python3"
  },
  "language_info": {
   "codemirror_mode": {
    "name": "ipython",
    "version": 3
   },
   "file_extension": ".py",
   "mimetype": "text/x-python",
   "name": "python",
   "nbconvert_exporter": "python",
   "pygments_lexer": "ipython3",
   "version": "3.9.1 (default, Jan 10 2023, 16:36:13) \n[Clang 14.0.0 (clang-1400.0.29.202)]"
  },
  "orig_nbformat": 4,
  "vscode": {
   "interpreter": {
    "hash": "77e65e9c7571c075be141a5694f1882fd5e8e0d0edb21648a3419d64382fbf17"
   }
  }
 },
 "nbformat": 4,
 "nbformat_minor": 2
}
