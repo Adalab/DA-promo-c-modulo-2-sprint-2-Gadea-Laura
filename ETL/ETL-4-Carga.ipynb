{
 "cells": [
  {
   "cell_type": "code",
   "execution_count": 23,
   "metadata": {},
   "outputs": [],
   "source": [
    "import pandas as pd\n",
    "import mysql.connector"
   ]
  },
  {
   "cell_type": "code",
   "execution_count": 24,
   "metadata": {},
   "outputs": [],
   "source": [
    "# Generamos una función que nos permita crear una base de datos:\n",
    "\n",
    "def make_ddbb(name_ddbb):\n",
    "  \n",
    "    mydb = mysql.connector.connect(\n",
    "      host='127.0.0.1',\n",
    "      user='root',\n",
    "      password='AlumnaAdalab')\n",
    "\n",
    "    mc = mydb.cursor()\n",
    "\n",
    "    try:\n",
    "        mc.execute(f\"CREATE DATABASE IF NOT EXISTS {name_ddbb};\")\n",
    "        print(mc)\n",
    "    # en caso de que podamos ejecutar la query devuelvenos un error para saber en que nos estamos equivocando\n",
    "    except mysql.connector.Error as err:\n",
    "        print(err)\n",
    "        print(\"Error Code:\", err.errno)\n",
    "        print(\"SQLSTATE\", err.sqlstate)\n",
    "        print(\"Message\", err.msg)"
   ]
  },
  {
   "cell_type": "code",
   "execution_count": 25,
   "metadata": {},
   "outputs": [
    {
     "name": "stdout",
     "output_type": "stream",
     "text": [
      "MySQLCursor: CREATE DATABASE IF NOT EXISTS tiburones;\n"
     ]
    }
   ],
   "source": [
    "db_tiburones = make_ddbb('tiburones')"
   ]
  },
  {
   "cell_type": "code",
   "execution_count": 26,
   "metadata": {},
   "outputs": [],
   "source": [
    "# Generamos una segunda función para crear las tablas mediante una query.\n",
    "\n",
    "def insert_table(nombre_bbdd, query):\n",
    "    \n",
    "    cnx = mysql.connector.connect(user='root', password=f\"AlumnaAdalab\",\n",
    "                                     host='127.0.0.1', database=f\"{nombre_bbdd}\")\n",
    "    \n",
    "    mycursor = cnx.cursor()\n",
    " \n",
    "    try: \n",
    "        mycursor.execute(query)\n",
    "        cnx.commit() \n",
    "    # en caso de que podamos ejecutar la query devuelvenos un error para saber en que nos estamos equivocando\n",
    "    except mysql.connector.Error as err:\n",
    "        print(err)\n",
    "        print(\"Error Code:\", err.errno)\n",
    "        print(\"SQLSTATE\", err.sqlstate)\n",
    "        print(\"Message\", err.msg)"
   ]
  },
  {
   "cell_type": "code",
   "execution_count": 27,
   "metadata": {},
   "outputs": [],
   "source": [
    "df_ataques = pd.read_csv('datos/ETL-2.csv', index_col=0)"
   ]
  },
  {
   "cell_type": "code",
   "execution_count": 28,
   "metadata": {},
   "outputs": [],
   "source": [
    "attacks = ''' \n",
    "    CREATE TABLE IF NOT EXISTS `attacks` (\n",
    "    `id_attacks` INT NOT NULL AUTO_INCREMENT,\n",
    "    `id_climate` INT NOT NULL,\n",
    "    `year` INT DEFAULT NULL,\n",
    "    `type` VARCHAR(50) DEFAULT NULL, \n",
    "    `country` VARCHAR(50) DEFAULT NULL,  \n",
    "    `age` FLOAT DEFAULT NULL,\n",
    "    `species` VARCHAR(50) DEFAULT NULL,\n",
    "    `date` VARCHAR (10) DEFAULT NULL,\n",
    "    `fatal` CHAR (1) DEFAULT NULL,\n",
    "    `sex` CHAR (1) DEFAULT NULL,\n",
    "    PRIMARY KEY (`id_attacks`),\n",
    "    INDEX `fk_attacks_climate` (`id_climate` ASC),\n",
    "    CONSTRAINT `fk_attacks_climate`\n",
    "    FOREIGN KEY (`id_climate`)\n",
    "    REFERENCES `tiburones`.`climate` (`id_climate`)\n",
    "    )\n",
    "    \n",
    "    ENGINE = InnoDB;\n",
    "    '''"
   ]
  },
  {
   "cell_type": "code",
   "execution_count": 29,
   "metadata": {},
   "outputs": [],
   "source": [
    "climate = '''\n",
    "       CREATE TABLE IF NOT EXISTS `climate` (\n",
    "       `id_climate` INT NOT NULL AUTO_INCREMENT,\n",
    "       `country` VARCHAR(50) DEFAULT NULL,  \n",
    "       `timepoint` FLOAT DEFAULT NULL, \n",
    "       `cloudcover` FLOAT DEFAULT NULL, \n",
    "       `highcloud` FLOAT DEFAULT NULL, \n",
    "       `midcloud` FLOAT DEFAULT NULL, \n",
    "       `lowcloud` FLOAT DEFAULT NULL,\n",
    "       `temp2m` FLOAT DEFAULT NULL, \n",
    "       `lifted_index` FLOAT DEFAULT NULL, \n",
    "       `rh2m` FLOAT DEFAULT NULL, \n",
    "       `msl_pressure` FLOAT DEFAULT NULL, \n",
    "       `prec_amount` FLOAT DEFAULT NULL,\n",
    "       `snow_depth` FLOAT DEFAULT NULL, \n",
    "       `wind_speed` FLOAT DEFAULT NULL, \n",
    "       `latitud` FLOAT DEFAULT NULL, \n",
    "       `longitud` FLOAT DEFAULT NULL, \n",
    "       `rh_layer_950mb` FLOAT DEFAULT NULL,\n",
    "       `rh_layer_900mb` FLOAT DEFAULT NULL, \n",
    "       `rh_layer_850mb` FLOAT DEFAULT NULL, \n",
    "       `rh_layer_800mb` FLOAT DEFAULT NULL, \n",
    "       `rh_layer_750mb` FLOAT DEFAULT NULL,\n",
    "       `rh_layer_700mb` FLOAT DEFAULT NULL, \n",
    "       `rh_layer_650mb` FLOAT DEFAULT NULL, \n",
    "       `rh_layer_600mb` FLOAT DEFAULT NULL, \n",
    "       `rh_layer_550mb` FLOAT DEFAULT NULL,\n",
    "       `rh_layer_500mb` FLOAT DEFAULT NULL,\n",
    "       `rh_layer_450mb` FLOAT DEFAULT NULL, \n",
    "       `rh_layer_400mb` FLOAT DEFAULT NULL, \n",
    "       `rh_layer_350mb` FLOAT DEFAULT NULL,\n",
    "       `rh_layer_300mb` FLOAT DEFAULT NULL,\n",
    "       `rh_layer_250mb` FLOAT DEFAULT NULL, \n",
    "       `rh_layer_200mb` FLOAT DEFAULT NULL,\n",
    "       `layer950mb_direction` FLOAT DEFAULT NULL, \n",
    "       `layer950mb_speed` FLOAT DEFAULT NULL, \n",
    "       `layer900mb_direction` FLOAT DEFAULT NULL,\n",
    "       `layer900mb_speed` FLOAT DEFAULT NULL, \n",
    "       `layer850mb_direction` FLOAT DEFAULT NULL, \n",
    "       `layer850mb_speed` FLOAT DEFAULT NULL,\n",
    "       `layer800mb_direction` FLOAT DEFAULT NULL, \n",
    "       `layer800mb_speed` FLOAT DEFAULT NULL, \n",
    "       `layer750mb_direction` FLOAT DEFAULT NULL,\n",
    "       `layer750mb_speed` FLOAT DEFAULT NULL, \n",
    "       `layer700mb_direction` FLOAT DEFAULT NULL, \n",
    "       `layer700mb_speed` FLOAT DEFAULT NULL,\n",
    "       `layer650mb_direction` FLOAT DEFAULT NULL, \n",
    "       `layer650mb_speed` FLOAT DEFAULT NULL,\n",
    "       `layer600mb_direction` FLOAT DEFAULT NULL,\n",
    "       `layer600mb_speed` FLOAT DEFAULT NULL,\n",
    "       `layer550mb_direction` FLOAT DEFAULT NULL, \n",
    "       `layer550mb_speed` FLOAT DEFAULT NULL,\n",
    "       `layer500mb_direction` FLOAT DEFAULT NULL,\n",
    "       `layer500mb_speed` FLOAT DEFAULT NULL, \n",
    "       `layer450mb_direction` FLOAT DEFAULT NULL,\n",
    "       `layer450mb_speed` FLOAT DEFAULT NULL,\n",
    "       `layer400mb_direction` FLOAT DEFAULT NULL,\n",
    "       `layer400mb_speed` FLOAT DEFAULT NULL,\n",
    "       `layer350mb_direction` FLOAT DEFAULT NULL,\n",
    "       `layer350mb_speed` FLOAT DEFAULT NULL,\n",
    "       `layer300mb_direction` FLOAT DEFAULT NULL,\n",
    "       `layer300mb_speed` FLOAT DEFAULT NULL,\n",
    "       `layer250mb_direction` FLOAT DEFAULT NULL,\n",
    "       `layer250mb_speed` FLOAT DEFAULT NULL,\n",
    "       `layer200mb_direction` FLOAT DEFAULT NULL,\n",
    "       `layer200mb_speed` FLOAT DEFAULT NULL,\n",
    "       PRIMARY KEY (`id_climate`))\n",
    "    \n",
    "    ENGINE = InnoDB;\n",
    "       '''"
   ]
  },
  {
   "cell_type": "code",
   "execution_count": 30,
   "metadata": {},
   "outputs": [],
   "source": [
    "insert_table('tiburones', attacks)"
   ]
  },
  {
   "cell_type": "code",
   "execution_count": 31,
   "metadata": {},
   "outputs": [],
   "source": [
    "insert_table('tiburones', climate)"
   ]
  }
 ],
 "metadata": {
  "kernelspec": {
   "display_name": "Python 3.9.7 ('base')",
   "language": "python",
   "name": "python3"
  },
  "language_info": {
   "codemirror_mode": {
    "name": "ipython",
    "version": 3
   },
   "file_extension": ".py",
   "mimetype": "text/x-python",
   "name": "python",
   "nbconvert_exporter": "python",
   "pygments_lexer": "ipython3",
   "version": "3.9.7"
  },
  "orig_nbformat": 4,
  "vscode": {
   "interpreter": {
    "hash": "a132548e790cb25f951c67ed157520233be95043d6eb3836371ed4d98e90df31"
   }
  }
 },
 "nbformat": 4,
 "nbformat_minor": 2
}
