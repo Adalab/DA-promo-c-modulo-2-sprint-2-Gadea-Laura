{
 "cells": [
  {
   "cell_type": "markdown",
   "metadata": {},
   "source": [
    "## Limpieza 5: SkLearn"
   ]
  },
  {
   "cell_type": "markdown",
   "metadata": {},
   "source": [
    "### A lo largo de este ejercicio de pair programming vamos a intentar eliminar los valores nulos de nuestras columnas. En la lección hemos aprendido varios métodos de skelarn intentemos aplicarlos todos. Manos a la obra!"
   ]
  },
  {
   "cell_type": "code",
   "execution_count": 172,
   "metadata": {},
   "outputs": [],
   "source": [
    "import pandas as pd\n",
    "import sidetable as stb\n",
    "import numpy as np\n",
    "from sklearn.impute import SimpleImputer\n",
    "from sklearn.experimental import enable_iterative_imputer\n",
    "from sklearn.impute import IterativeImputer\n",
    "from sklearn.impute import KNNImputer"
   ]
  },
  {
   "cell_type": "code",
   "execution_count": 173,
   "metadata": {},
   "outputs": [
    {
     "data": {
      "text/html": [
       "<div>\n",
       "<style scoped>\n",
       "    .dataframe tbody tr th:only-of-type {\n",
       "        vertical-align: middle;\n",
       "    }\n",
       "\n",
       "    .dataframe tbody tr th {\n",
       "        vertical-align: top;\n",
       "    }\n",
       "\n",
       "    .dataframe thead th {\n",
       "        text-align: right;\n",
       "    }\n",
       "</style>\n",
       "<table border=\"1\" class=\"dataframe\">\n",
       "  <thead>\n",
       "    <tr style=\"text-align: right;\">\n",
       "      <th></th>\n",
       "      <th>year</th>\n",
       "      <th>type</th>\n",
       "      <th>country</th>\n",
       "      <th>activity</th>\n",
       "      <th>age</th>\n",
       "      <th>species</th>\n",
       "      <th>month</th>\n",
       "      <th>fatal</th>\n",
       "      <th>sex</th>\n",
       "    </tr>\n",
       "  </thead>\n",
       "  <tbody>\n",
       "    <tr>\n",
       "      <th>0</th>\n",
       "      <td>2018</td>\n",
       "      <td>Boating</td>\n",
       "      <td>usa</td>\n",
       "      <td>Paddling</td>\n",
       "      <td>57.0</td>\n",
       "      <td>White Shark</td>\n",
       "      <td>Jun</td>\n",
       "      <td>N</td>\n",
       "      <td>F</td>\n",
       "    </tr>\n",
       "    <tr>\n",
       "      <th>1</th>\n",
       "      <td>2018</td>\n",
       "      <td>Unprovoked</td>\n",
       "      <td>brazil</td>\n",
       "      <td>Swimming</td>\n",
       "      <td>18.0</td>\n",
       "      <td>Tiger Shark</td>\n",
       "      <td>Jun</td>\n",
       "      <td>Y</td>\n",
       "      <td>M</td>\n",
       "    </tr>\n",
       "    <tr>\n",
       "      <th>2</th>\n",
       "      <td>2018</td>\n",
       "      <td>Unprovoked</td>\n",
       "      <td>usa</td>\n",
       "      <td>Walking</td>\n",
       "      <td>15.0</td>\n",
       "      <td>Bull Shark</td>\n",
       "      <td>May</td>\n",
       "      <td>N</td>\n",
       "      <td>M</td>\n",
       "    </tr>\n",
       "    <tr>\n",
       "      <th>3</th>\n",
       "      <td>2018</td>\n",
       "      <td>Provoked</td>\n",
       "      <td>australia</td>\n",
       "      <td>Feeding sharks</td>\n",
       "      <td>32.0</td>\n",
       "      <td>Grey Shark</td>\n",
       "      <td>May</td>\n",
       "      <td>N</td>\n",
       "      <td>M</td>\n",
       "    </tr>\n",
       "    <tr>\n",
       "      <th>4</th>\n",
       "      <td>2018</td>\n",
       "      <td>Invalid</td>\n",
       "      <td>england</td>\n",
       "      <td>Fishing</td>\n",
       "      <td>21.0</td>\n",
       "      <td>Unspecified</td>\n",
       "      <td>May</td>\n",
       "      <td>N</td>\n",
       "      <td>M</td>\n",
       "    </tr>\n",
       "  </tbody>\n",
       "</table>\n",
       "</div>"
      ],
      "text/plain": [
       "   year        type    country        activity   age      species month fatal  \\\n",
       "0  2018     Boating        usa        Paddling  57.0  White Shark   Jun     N   \n",
       "1  2018  Unprovoked     brazil        Swimming  18.0  Tiger Shark   Jun     Y   \n",
       "2  2018  Unprovoked        usa         Walking  15.0   Bull Shark   May     N   \n",
       "3  2018    Provoked  australia  Feeding sharks  32.0   Grey Shark   May     N   \n",
       "4  2018     Invalid    england         Fishing  21.0  Unspecified   May     N   \n",
       "\n",
       "  sex  \n",
       "0   F  \n",
       "1   M  \n",
       "2   M  \n",
       "3   M  \n",
       "4   M  "
      ]
     },
     "execution_count": 173,
     "metadata": {},
     "output_type": "execute_result"
    }
   ],
   "source": [
    "df = pd.read_csv(\"datos/Limpieza-3.csv\", index_col = 0)\n",
    "df.head()"
   ]
  },
  {
   "cell_type": "code",
   "execution_count": 208,
   "metadata": {},
   "outputs": [],
   "source": [
    "#generamos dos copias del df:\n",
    "df2 = df.copy()\n",
    "df3 = df.copy()"
   ]
  },
  {
   "attachments": {},
   "cell_type": "markdown",
   "metadata": {},
   "source": [
    "Exploramos los casos nulos de cada columna del DataFrame:"
   ]
  },
  {
   "cell_type": "code",
   "execution_count": 175,
   "metadata": {},
   "outputs": [
    {
     "data": {
      "text/html": [
       "<div>\n",
       "<style scoped>\n",
       "    .dataframe tbody tr th:only-of-type {\n",
       "        vertical-align: middle;\n",
       "    }\n",
       "\n",
       "    .dataframe tbody tr th {\n",
       "        vertical-align: top;\n",
       "    }\n",
       "\n",
       "    .dataframe thead th {\n",
       "        text-align: right;\n",
       "    }\n",
       "</style>\n",
       "<table border=\"1\" class=\"dataframe\">\n",
       "  <thead>\n",
       "    <tr style=\"text-align: right;\">\n",
       "      <th></th>\n",
       "      <th>missing</th>\n",
       "      <th>total</th>\n",
       "      <th>percent</th>\n",
       "    </tr>\n",
       "  </thead>\n",
       "  <tbody>\n",
       "    <tr>\n",
       "      <th>month</th>\n",
       "      <td>181</td>\n",
       "      <td>1672</td>\n",
       "      <td>10.825359</td>\n",
       "    </tr>\n",
       "    <tr>\n",
       "      <th>age</th>\n",
       "      <td>158</td>\n",
       "      <td>1672</td>\n",
       "      <td>9.449761</td>\n",
       "    </tr>\n",
       "    <tr>\n",
       "      <th>species</th>\n",
       "      <td>126</td>\n",
       "      <td>1672</td>\n",
       "      <td>7.535885</td>\n",
       "    </tr>\n",
       "    <tr>\n",
       "      <th>fatal</th>\n",
       "      <td>99</td>\n",
       "      <td>1672</td>\n",
       "      <td>5.921053</td>\n",
       "    </tr>\n",
       "    <tr>\n",
       "      <th>activity</th>\n",
       "      <td>31</td>\n",
       "      <td>1672</td>\n",
       "      <td>1.854067</td>\n",
       "    </tr>\n",
       "    <tr>\n",
       "      <th>sex</th>\n",
       "      <td>14</td>\n",
       "      <td>1672</td>\n",
       "      <td>0.837321</td>\n",
       "    </tr>\n",
       "    <tr>\n",
       "      <th>country</th>\n",
       "      <td>10</td>\n",
       "      <td>1672</td>\n",
       "      <td>0.598086</td>\n",
       "    </tr>\n",
       "    <tr>\n",
       "      <th>year</th>\n",
       "      <td>0</td>\n",
       "      <td>1672</td>\n",
       "      <td>0.000000</td>\n",
       "    </tr>\n",
       "    <tr>\n",
       "      <th>type</th>\n",
       "      <td>0</td>\n",
       "      <td>1672</td>\n",
       "      <td>0.000000</td>\n",
       "    </tr>\n",
       "  </tbody>\n",
       "</table>\n",
       "</div>"
      ],
      "text/plain": [
       "          missing  total    percent\n",
       "month         181   1672  10.825359\n",
       "age           158   1672   9.449761\n",
       "species       126   1672   7.535885\n",
       "fatal          99   1672   5.921053\n",
       "activity       31   1672   1.854067\n",
       "sex            14   1672   0.837321\n",
       "country        10   1672   0.598086\n",
       "year            0   1672   0.000000\n",
       "type            0   1672   0.000000"
      ]
     },
     "execution_count": 175,
     "metadata": {},
     "output_type": "execute_result"
    }
   ],
   "source": [
    "df.stb.missing()"
   ]
  },
  {
   "cell_type": "code",
   "execution_count": 176,
   "metadata": {},
   "outputs": [
    {
     "name": "stdout",
     "output_type": "stream",
     "text": [
      "La columna year no tiene casos nulos.\n",
      "La columna type no tiene casos nulos.\n",
      "La columna country tiene 10 casos nulos.\n",
      "La columna activity tiene 31 casos nulos.\n",
      "La columna age tiene 158 casos nulos.\n",
      "La columna species tiene 126 casos nulos.\n",
      "La columna month tiene 181 casos nulos.\n",
      "La columna fatal tiene 99 casos nulos.\n",
      "La columna sex tiene 14 casos nulos.\n"
     ]
    }
   ],
   "source": [
    "#vamos a explorar los casos nulos de cada columna:\n",
    "for col in df:\n",
    "    if df[col].isnull().sum() != 0:\n",
    "        print(f'La columna {col} tiene {df[col].isnull().sum()} casos nulos.')\n",
    "    else:\n",
    "        print(f'La columna {col} no tiene casos nulos.')"
   ]
  },
  {
   "cell_type": "markdown",
   "metadata": {},
   "source": [
    "### 1. Es el momento de eliminar los nulos:\n",
    "- Reemplazad los valores nulos de la columna age por la media de la edad usando el método SimpleImputer."
   ]
  },
  {
   "cell_type": "code",
   "execution_count": 177,
   "metadata": {},
   "outputs": [
    {
     "name": "stdout",
     "output_type": "stream",
     "text": [
      "La columna year tiene 0 casos nulos.\n",
      "La media de la columna year es 1991.\n",
      "-----------------------------------\n",
      "La columna age tiene 158 casos nulos.\n",
      "La media de la columna age es 29.\n",
      "-----------------------------------\n"
     ]
    }
   ],
   "source": [
    "for col in df.select_dtypes(include=np.number):\n",
    "#vamos a comprobar cuántos nulos tiene la columna \"sex\"\n",
    "    print(f'La columna {col} tiene {df[col].isnull().sum()} casos nulos.')\n",
    "    #la distribución de hombres y mujeres:\n",
    "    #y calcularemos la media:\n",
    "    print(f'La media de la columna {col} es {round(df[col].mean())}.')\n",
    "    print('-----------------------------------')"
   ]
  },
  {
   "cell_type": "code",
   "execution_count": 178,
   "metadata": {},
   "outputs": [],
   "source": [
    "def simple_imputer(df, col, estadis):\n",
    "    imputer = SimpleImputer(strategy = estadis, missing_values = np.nan, copy = False)\n",
    "    imputer = imputer.fit(df[[col]])\n",
    "    df[col] = imputer.transform(df[[col]])\n",
    "    return df"
   ]
  },
  {
   "cell_type": "code",
   "execution_count": 179,
   "metadata": {},
   "outputs": [],
   "source": [
    "df = simple_imputer(df, \"age\", \"mean\")"
   ]
  },
  {
   "cell_type": "code",
   "execution_count": 180,
   "metadata": {},
   "outputs": [
    {
     "name": "stdout",
     "output_type": "stream",
     "text": [
      "En la columna year ya no hay casos nulos.\n",
      "En la columna age ya no hay casos nulos.\n"
     ]
    }
   ],
   "source": [
    "#ahora, cuántos nulos quedan después de aplicar la función:\n",
    "for col in df.select_dtypes(include=np.number):\n",
    "    if df.select_dtypes(include=np.number)[col].isnull().sum() == 0:\n",
    "        print(f'En la columna {col} ya no hay casos nulos.')\n",
    "    else:\n",
    "        print(f'En la columna {col} hay {df.select_dtypes(include=np.number)[col].isnull().sum()} casos nulos.')"
   ]
  },
  {
   "cell_type": "markdown",
   "metadata": {},
   "source": [
    "- Reemplazad los valores nulos de la columna sex por la moda, usando el método SimpleImputer.\n",
    "  \n",
    "   💡 Pista 💡 La moda en este tipo de aproximación se indica como most_frequent.\n"
   ]
  },
  {
   "cell_type": "code",
   "execution_count": 181,
   "metadata": {},
   "outputs": [
    {
     "name": "stdout",
     "output_type": "stream",
     "text": [
      "La columna Sexo tiene 14 casos nulos.\n",
      "-----------------------------------\n",
      "En la columna Sexo del nuevo DataFrame, tenemos 1435 hombres y 223 mujeres.\n",
      "-----------------------------------\n",
      "La moda de la columna Sexo es M (hombres).\n"
     ]
    }
   ],
   "source": [
    "#vamos a comprobar cuántos nulos tiene la columna \"sex\"\n",
    "print(f'La columna Sexo tiene {df[\"sex\"].isnull().sum()} casos nulos.')\n",
    "print('-----------------------------------')\n",
    "#la distribución de hombres y mujeres:\n",
    "print(f'En la columna Sexo del nuevo DataFrame, tenemos {df[\"sex\"].value_counts()[0]} hombres y {df[\"sex\"].value_counts()[1]} mujeres.')\n",
    "print('-----------------------------------')\n",
    "#y calcularemos la moda:\n",
    "print(f'La moda de la columna Sexo es {df[\"sex\"].mode()[0]} (hombres).')"
   ]
  },
  {
   "cell_type": "code",
   "execution_count": 182,
   "metadata": {},
   "outputs": [],
   "source": [
    "#aplicamos la función\n",
    "df = simple_imputer(df, \"sex\", \"most_frequent\")"
   ]
  },
  {
   "cell_type": "code",
   "execution_count": 183,
   "metadata": {},
   "outputs": [
    {
     "data": {
      "text/html": [
       "<div>\n",
       "<style scoped>\n",
       "    .dataframe tbody tr th:only-of-type {\n",
       "        vertical-align: middle;\n",
       "    }\n",
       "\n",
       "    .dataframe tbody tr th {\n",
       "        vertical-align: top;\n",
       "    }\n",
       "\n",
       "    .dataframe thead th {\n",
       "        text-align: right;\n",
       "    }\n",
       "</style>\n",
       "<table border=\"1\" class=\"dataframe\">\n",
       "  <thead>\n",
       "    <tr style=\"text-align: right;\">\n",
       "      <th></th>\n",
       "      <th>missing</th>\n",
       "      <th>total</th>\n",
       "      <th>percent</th>\n",
       "    </tr>\n",
       "  </thead>\n",
       "  <tbody>\n",
       "    <tr>\n",
       "      <th>month</th>\n",
       "      <td>181</td>\n",
       "      <td>1672</td>\n",
       "      <td>10.825359</td>\n",
       "    </tr>\n",
       "    <tr>\n",
       "      <th>species</th>\n",
       "      <td>126</td>\n",
       "      <td>1672</td>\n",
       "      <td>7.535885</td>\n",
       "    </tr>\n",
       "    <tr>\n",
       "      <th>fatal</th>\n",
       "      <td>99</td>\n",
       "      <td>1672</td>\n",
       "      <td>5.921053</td>\n",
       "    </tr>\n",
       "    <tr>\n",
       "      <th>activity</th>\n",
       "      <td>31</td>\n",
       "      <td>1672</td>\n",
       "      <td>1.854067</td>\n",
       "    </tr>\n",
       "    <tr>\n",
       "      <th>country</th>\n",
       "      <td>10</td>\n",
       "      <td>1672</td>\n",
       "      <td>0.598086</td>\n",
       "    </tr>\n",
       "    <tr>\n",
       "      <th>year</th>\n",
       "      <td>0</td>\n",
       "      <td>1672</td>\n",
       "      <td>0.000000</td>\n",
       "    </tr>\n",
       "    <tr>\n",
       "      <th>type</th>\n",
       "      <td>0</td>\n",
       "      <td>1672</td>\n",
       "      <td>0.000000</td>\n",
       "    </tr>\n",
       "    <tr>\n",
       "      <th>age</th>\n",
       "      <td>0</td>\n",
       "      <td>1672</td>\n",
       "      <td>0.000000</td>\n",
       "    </tr>\n",
       "    <tr>\n",
       "      <th>sex</th>\n",
       "      <td>0</td>\n",
       "      <td>1672</td>\n",
       "      <td>0.000000</td>\n",
       "    </tr>\n",
       "  </tbody>\n",
       "</table>\n",
       "</div>"
      ],
      "text/plain": [
       "          missing  total    percent\n",
       "month         181   1672  10.825359\n",
       "species       126   1672   7.535885\n",
       "fatal          99   1672   5.921053\n",
       "activity       31   1672   1.854067\n",
       "country        10   1672   0.598086\n",
       "year            0   1672   0.000000\n",
       "type            0   1672   0.000000\n",
       "age             0   1672   0.000000\n",
       "sex             0   1672   0.000000"
      ]
     },
     "execution_count": 183,
     "metadata": {},
     "output_type": "execute_result"
    }
   ],
   "source": [
    "#comprobamos los casos perdidos:\n",
    "df.stb.missing()"
   ]
  },
  {
   "cell_type": "code",
   "execution_count": 184,
   "metadata": {},
   "outputs": [
    {
     "name": "stdout",
     "output_type": "stream",
     "text": [
      "Después de aplicar el reemplazo de nulos, en la columna Sexo del nuevo DataFrame tenemos 1449 hombres y 223 mujeres.\n"
     ]
    }
   ],
   "source": [
    "print(f'Después de aplicar el reemplazo de nulos, en la columna Sexo del nuevo DataFrame tenemos {df[\"sex\"].value_counts()[0]} hombres y {df[\"sex\"].value_counts()[1]} mujeres.')"
   ]
  },
  {
   "cell_type": "code",
   "execution_count": 185,
   "metadata": {},
   "outputs": [
    {
     "name": "stdout",
     "output_type": "stream",
     "text": [
      "En la columna \"Sexo\" ya no hay casos nulos.\n"
     ]
    }
   ],
   "source": [
    "if df[\"sex\"].isnull().sum() == 0:\n",
    "    print(f'En la columna \"Sexo\" ya no hay casos nulos.')\n",
    "else:\n",
    "    print(f'En la columna \"Sexo\" hay {df[\"sex\"].isnull().sum()} casos nulos.')"
   ]
  },
  {
   "cell_type": "markdown",
   "metadata": {},
   "source": [
    "- Reemplazad los valores nulos de la columna type por el valor más frecuente (la moda) con el método SimpleImputer."
   ]
  },
  {
   "cell_type": "markdown",
   "metadata": {},
   "source": [
    "La columna type no tiene valores nulos."
   ]
  },
  {
   "cell_type": "code",
   "execution_count": 186,
   "metadata": {},
   "outputs": [
    {
     "data": {
      "text/html": [
       "<div>\n",
       "<style scoped>\n",
       "    .dataframe tbody tr th:only-of-type {\n",
       "        vertical-align: middle;\n",
       "    }\n",
       "\n",
       "    .dataframe tbody tr th {\n",
       "        vertical-align: top;\n",
       "    }\n",
       "\n",
       "    .dataframe thead th {\n",
       "        text-align: right;\n",
       "    }\n",
       "</style>\n",
       "<table border=\"1\" class=\"dataframe\">\n",
       "  <thead>\n",
       "    <tr style=\"text-align: right;\">\n",
       "      <th></th>\n",
       "      <th>country</th>\n",
       "      <th>count</th>\n",
       "      <th>percent</th>\n",
       "      <th>cumulative_count</th>\n",
       "      <th>cumulative_percent</th>\n",
       "    </tr>\n",
       "  </thead>\n",
       "  <tbody>\n",
       "    <tr>\n",
       "      <th>0</th>\n",
       "      <td>usa</td>\n",
       "      <td>741</td>\n",
       "      <td>44.584838</td>\n",
       "      <td>741</td>\n",
       "      <td>44.584838</td>\n",
       "    </tr>\n",
       "    <tr>\n",
       "      <th>1</th>\n",
       "      <td>australia</td>\n",
       "      <td>343</td>\n",
       "      <td>20.637786</td>\n",
       "      <td>1084</td>\n",
       "      <td>65.222623</td>\n",
       "    </tr>\n",
       "    <tr>\n",
       "      <th>2</th>\n",
       "      <td>south africa</td>\n",
       "      <td>234</td>\n",
       "      <td>14.079422</td>\n",
       "      <td>1318</td>\n",
       "      <td>79.302046</td>\n",
       "    </tr>\n",
       "    <tr>\n",
       "      <th>3</th>\n",
       "      <td>bahamas</td>\n",
       "      <td>29</td>\n",
       "      <td>1.744886</td>\n",
       "      <td>1347</td>\n",
       "      <td>81.046931</td>\n",
       "    </tr>\n",
       "    <tr>\n",
       "      <th>4</th>\n",
       "      <td>new zealand</td>\n",
       "      <td>21</td>\n",
       "      <td>1.263538</td>\n",
       "      <td>1368</td>\n",
       "      <td>82.310469</td>\n",
       "    </tr>\n",
       "    <tr>\n",
       "      <th>5</th>\n",
       "      <td>reunion</td>\n",
       "      <td>17</td>\n",
       "      <td>1.022864</td>\n",
       "      <td>1385</td>\n",
       "      <td>83.333333</td>\n",
       "    </tr>\n",
       "    <tr>\n",
       "      <th>6</th>\n",
       "      <td>papua new guinea</td>\n",
       "      <td>16</td>\n",
       "      <td>0.962696</td>\n",
       "      <td>1401</td>\n",
       "      <td>84.296029</td>\n",
       "    </tr>\n",
       "    <tr>\n",
       "      <th>7</th>\n",
       "      <td>other countries</td>\n",
       "      <td>261</td>\n",
       "      <td>15.703971</td>\n",
       "      <td>1662</td>\n",
       "      <td>100.000000</td>\n",
       "    </tr>\n",
       "  </tbody>\n",
       "</table>\n",
       "</div>"
      ],
      "text/plain": [
       "            country  count    percent  cumulative_count  cumulative_percent\n",
       "0               usa    741  44.584838               741           44.584838\n",
       "1         australia    343  20.637786              1084           65.222623\n",
       "2      south africa    234  14.079422              1318           79.302046\n",
       "3           bahamas     29   1.744886              1347           81.046931\n",
       "4       new zealand     21   1.263538              1368           82.310469\n",
       "5           reunion     17   1.022864              1385           83.333333\n",
       "6  papua new guinea     16   0.962696              1401           84.296029\n",
       "7   other countries    261  15.703971              1662          100.000000"
      ]
     },
     "execution_count": 186,
     "metadata": {},
     "output_type": "execute_result"
    }
   ],
   "source": [
    "df.stb.freq(['country'], thresh=85, other_label='other countries')"
   ]
  },
  {
   "cell_type": "code",
   "execution_count": 187,
   "metadata": {},
   "outputs": [
    {
     "name": "stdout",
     "output_type": "stream",
     "text": [
      "La columna Country tiene 10 casos nulos.\n"
     ]
    }
   ],
   "source": [
    "print(f'La columna Country tiene {df[\"country\"].isnull().sum()} casos nulos.')\n"
   ]
  },
  {
   "cell_type": "code",
   "execution_count": 188,
   "metadata": {},
   "outputs": [],
   "source": [
    "#asignamos el valor constante por el que queremos reemplazar los nulos. En este caso, la moda.\n",
    "imputer_mode_c =  SimpleImputer(strategy='most_frequent', missing_values=np.nan)"
   ]
  },
  {
   "cell_type": "code",
   "execution_count": 189,
   "metadata": {},
   "outputs": [
    {
     "name": "stdout",
     "output_type": "stream",
     "text": [
      "La moda de la columna País es USA.\n"
     ]
    }
   ],
   "source": [
    "#Calculamos cuál es la moda de nuestra columna para comprobar que el reemplazo ha funcionado cuando lo apliquemos:\n",
    "print(f'La moda de la columna País es {(df[\"country\"].mode()[0]).upper()}.')"
   ]
  },
  {
   "cell_type": "code",
   "execution_count": 190,
   "metadata": {},
   "outputs": [
    {
     "data": {
      "text/html": [
       "<div>\n",
       "<style scoped>\n",
       "    .dataframe tbody tr th:only-of-type {\n",
       "        vertical-align: middle;\n",
       "    }\n",
       "\n",
       "    .dataframe tbody tr th {\n",
       "        vertical-align: top;\n",
       "    }\n",
       "\n",
       "    .dataframe thead th {\n",
       "        text-align: right;\n",
       "    }\n",
       "</style>\n",
       "<table border=\"1\" class=\"dataframe\">\n",
       "  <thead>\n",
       "    <tr style=\"text-align: right;\">\n",
       "      <th></th>\n",
       "      <th>Pais</th>\n",
       "    </tr>\n",
       "  </thead>\n",
       "  <tbody>\n",
       "    <tr>\n",
       "      <th>0</th>\n",
       "      <td>usa</td>\n",
       "    </tr>\n",
       "    <tr>\n",
       "      <th>1</th>\n",
       "      <td>brazil</td>\n",
       "    </tr>\n",
       "    <tr>\n",
       "      <th>2</th>\n",
       "      <td>usa</td>\n",
       "    </tr>\n",
       "    <tr>\n",
       "      <th>3</th>\n",
       "      <td>australia</td>\n",
       "    </tr>\n",
       "    <tr>\n",
       "      <th>4</th>\n",
       "      <td>england</td>\n",
       "    </tr>\n",
       "  </tbody>\n",
       "</table>\n",
       "</div>"
      ],
      "text/plain": [
       "        Pais\n",
       "0        usa\n",
       "1     brazil\n",
       "2        usa\n",
       "3  australia\n",
       "4    england"
      ]
     },
     "execution_count": 190,
     "metadata": {},
     "output_type": "execute_result"
    }
   ],
   "source": [
    "#generamos el array y lo volcamos directamente en el DF:\n",
    "df_country = pd.DataFrame(imputer_mode_c.fit_transform(df[['country']]), columns=['Pais'])\n",
    "df_country.head()"
   ]
  },
  {
   "cell_type": "code",
   "execution_count": 191,
   "metadata": {},
   "outputs": [
    {
     "name": "stdout",
     "output_type": "stream",
     "text": [
      "Hay 0 casos nulos en el nuevo DF.\n"
     ]
    }
   ],
   "source": [
    "#comprobamos que los valores nulos no están presentes en el nuevo DF:\n",
    "print(f'Hay {df_country[\"Pais\"].isnull().sum()} casos nulos en el nuevo DF.')"
   ]
  },
  {
   "cell_type": "code",
   "execution_count": 192,
   "metadata": {},
   "outputs": [
    {
     "data": {
      "text/html": [
       "<div>\n",
       "<style scoped>\n",
       "    .dataframe tbody tr th:only-of-type {\n",
       "        vertical-align: middle;\n",
       "    }\n",
       "\n",
       "    .dataframe tbody tr th {\n",
       "        vertical-align: top;\n",
       "    }\n",
       "\n",
       "    .dataframe thead th {\n",
       "        text-align: right;\n",
       "    }\n",
       "</style>\n",
       "<table border=\"1\" class=\"dataframe\">\n",
       "  <thead>\n",
       "    <tr style=\"text-align: right;\">\n",
       "      <th></th>\n",
       "      <th>country</th>\n",
       "      <th>count</th>\n",
       "      <th>percent</th>\n",
       "      <th>cumulative_count</th>\n",
       "      <th>cumulative_percent</th>\n",
       "    </tr>\n",
       "  </thead>\n",
       "  <tbody>\n",
       "    <tr>\n",
       "      <th>0</th>\n",
       "      <td>usa</td>\n",
       "      <td>751</td>\n",
       "      <td>44.916268</td>\n",
       "      <td>751</td>\n",
       "      <td>44.916268</td>\n",
       "    </tr>\n",
       "    <tr>\n",
       "      <th>1</th>\n",
       "      <td>australia</td>\n",
       "      <td>343</td>\n",
       "      <td>20.514354</td>\n",
       "      <td>1094</td>\n",
       "      <td>65.430622</td>\n",
       "    </tr>\n",
       "    <tr>\n",
       "      <th>2</th>\n",
       "      <td>south africa</td>\n",
       "      <td>234</td>\n",
       "      <td>13.995215</td>\n",
       "      <td>1328</td>\n",
       "      <td>79.425837</td>\n",
       "    </tr>\n",
       "    <tr>\n",
       "      <th>3</th>\n",
       "      <td>bahamas</td>\n",
       "      <td>29</td>\n",
       "      <td>1.734450</td>\n",
       "      <td>1357</td>\n",
       "      <td>81.160287</td>\n",
       "    </tr>\n",
       "    <tr>\n",
       "      <th>4</th>\n",
       "      <td>new zealand</td>\n",
       "      <td>21</td>\n",
       "      <td>1.255981</td>\n",
       "      <td>1378</td>\n",
       "      <td>82.416268</td>\n",
       "    </tr>\n",
       "    <tr>\n",
       "      <th>5</th>\n",
       "      <td>reunion</td>\n",
       "      <td>17</td>\n",
       "      <td>1.016746</td>\n",
       "      <td>1395</td>\n",
       "      <td>83.433014</td>\n",
       "    </tr>\n",
       "    <tr>\n",
       "      <th>6</th>\n",
       "      <td>papua new guinea</td>\n",
       "      <td>16</td>\n",
       "      <td>0.956938</td>\n",
       "      <td>1411</td>\n",
       "      <td>84.389952</td>\n",
       "    </tr>\n",
       "    <tr>\n",
       "      <th>7</th>\n",
       "      <td>others</td>\n",
       "      <td>261</td>\n",
       "      <td>15.610048</td>\n",
       "      <td>1672</td>\n",
       "      <td>100.000000</td>\n",
       "    </tr>\n",
       "  </tbody>\n",
       "</table>\n",
       "</div>"
      ],
      "text/plain": [
       "            country  count    percent  cumulative_count  cumulative_percent\n",
       "0               usa    751  44.916268               751           44.916268\n",
       "1         australia    343  20.514354              1094           65.430622\n",
       "2      south africa    234  13.995215              1328           79.425837\n",
       "3           bahamas     29   1.734450              1357           81.160287\n",
       "4       new zealand     21   1.255981              1378           82.416268\n",
       "5           reunion     17   1.016746              1395           83.433014\n",
       "6  papua new guinea     16   0.956938              1411           84.389952\n",
       "7            others    261  15.610048              1672          100.000000"
      ]
     },
     "execution_count": 192,
     "metadata": {},
     "output_type": "execute_result"
    }
   ],
   "source": [
    "#reemplazamos los valores:\n",
    "df['country'].replace(df['country'].values, df_country['Pais'].values, inplace=True)\n",
    "\n",
    "#comprobamos que se han aplicado los cambios en los valores de la moda (USA)\n",
    "df.stb.freq(['country'], thresh=85)"
   ]
  },
  {
   "cell_type": "code",
   "execution_count": 193,
   "metadata": {},
   "outputs": [
    {
     "name": "stdout",
     "output_type": "stream",
     "text": [
      "En la columna \"country\" ya no hay casos nulos.\n"
     ]
    }
   ],
   "source": [
    "if df[\"country\"].isnull().sum() == 0:\n",
    "    print(f'En la columna \"country\" ya no hay casos nulos.')\n",
    "else:\n",
    "    print(f'En la columna \"country\" hay {df[\"country\"].isnull().sum()} casos nulos.')"
   ]
  },
  {
   "cell_type": "markdown",
   "metadata": {},
   "source": [
    "- Utilizad el método KNN Imputer para reemplazar todos los valores nulos de las columnas numéricas."
   ]
  },
  {
   "cell_type": "markdown",
   "metadata": {},
   "source": [
    "Las dos columnas numéricas que tenemos, ya no tienen nulos, por lo que llamamos de vuelta al dataframe original."
   ]
  },
  {
   "cell_type": "code",
   "execution_count": 194,
   "metadata": {},
   "outputs": [
    {
     "data": {
      "text/plain": [
       "year      0\n",
       "age     158\n",
       "dtype: int64"
      ]
     },
     "execution_count": 194,
     "metadata": {},
     "output_type": "execute_result"
    }
   ],
   "source": [
    "#invocamos la copia del df original, y comprobamos que al menos 1 de las cols contiene nulos.\n",
    "numericas = df2.select_dtypes(include = np.number)\n",
    "numericas.isnull().sum()"
   ]
  },
  {
   "cell_type": "code",
   "execution_count": 195,
   "metadata": {},
   "outputs": [],
   "source": [
    "#generamos la función, recogiendo esta vez el parámetro 'vecino':\n",
    "def knn_imputer(df, vecino):\n",
    "\n",
    "    imputer = KNNImputer(n_neighbors = vecino)\n",
    "\n",
    "    imputer.fit(numericas)\n",
    "  \n",
    "    df_numericas_trans = pd.DataFrame(imputer.transform(numericas), columns = numericas.columns)\n",
    "\n",
    "    columnas = df_numericas_trans.columns\n",
    "\n",
    "    df.drop(columnas, axis = 1, inplace = True)\n",
    "    \n",
    "    df[columnas] = df_numericas_trans[columnas]\n",
    "\n",
    "    return df"
   ]
  },
  {
   "cell_type": "code",
   "execution_count": 203,
   "metadata": {},
   "outputs": [],
   "source": [
    "dfb = knn_imputer(df2, 5)"
   ]
  },
  {
   "cell_type": "code",
   "execution_count": 204,
   "metadata": {},
   "outputs": [
    {
     "data": {
      "text/html": [
       "<div>\n",
       "<style scoped>\n",
       "    .dataframe tbody tr th:only-of-type {\n",
       "        vertical-align: middle;\n",
       "    }\n",
       "\n",
       "    .dataframe tbody tr th {\n",
       "        vertical-align: top;\n",
       "    }\n",
       "\n",
       "    .dataframe thead th {\n",
       "        text-align: right;\n",
       "    }\n",
       "</style>\n",
       "<table border=\"1\" class=\"dataframe\">\n",
       "  <thead>\n",
       "    <tr style=\"text-align: right;\">\n",
       "      <th></th>\n",
       "      <th>missing</th>\n",
       "      <th>total</th>\n",
       "      <th>percent</th>\n",
       "    </tr>\n",
       "  </thead>\n",
       "  <tbody>\n",
       "    <tr>\n",
       "      <th>month</th>\n",
       "      <td>181</td>\n",
       "      <td>1672</td>\n",
       "      <td>10.825359</td>\n",
       "    </tr>\n",
       "    <tr>\n",
       "      <th>species</th>\n",
       "      <td>126</td>\n",
       "      <td>1672</td>\n",
       "      <td>7.535885</td>\n",
       "    </tr>\n",
       "    <tr>\n",
       "      <th>fatal</th>\n",
       "      <td>99</td>\n",
       "      <td>1672</td>\n",
       "      <td>5.921053</td>\n",
       "    </tr>\n",
       "    <tr>\n",
       "      <th>activity</th>\n",
       "      <td>31</td>\n",
       "      <td>1672</td>\n",
       "      <td>1.854067</td>\n",
       "    </tr>\n",
       "    <tr>\n",
       "      <th>type</th>\n",
       "      <td>0</td>\n",
       "      <td>1672</td>\n",
       "      <td>0.000000</td>\n",
       "    </tr>\n",
       "    <tr>\n",
       "      <th>country</th>\n",
       "      <td>0</td>\n",
       "      <td>1672</td>\n",
       "      <td>0.000000</td>\n",
       "    </tr>\n",
       "    <tr>\n",
       "      <th>sex</th>\n",
       "      <td>0</td>\n",
       "      <td>1672</td>\n",
       "      <td>0.000000</td>\n",
       "    </tr>\n",
       "    <tr>\n",
       "      <th>year</th>\n",
       "      <td>0</td>\n",
       "      <td>1672</td>\n",
       "      <td>0.000000</td>\n",
       "    </tr>\n",
       "    <tr>\n",
       "      <th>age</th>\n",
       "      <td>0</td>\n",
       "      <td>1672</td>\n",
       "      <td>0.000000</td>\n",
       "    </tr>\n",
       "  </tbody>\n",
       "</table>\n",
       "</div>"
      ],
      "text/plain": [
       "          missing  total    percent\n",
       "month         181   1672  10.825359\n",
       "species       126   1672   7.535885\n",
       "fatal          99   1672   5.921053\n",
       "activity       31   1672   1.854067\n",
       "type            0   1672   0.000000\n",
       "country         0   1672   0.000000\n",
       "sex             0   1672   0.000000\n",
       "year            0   1672   0.000000\n",
       "age             0   1672   0.000000"
      ]
     },
     "execution_count": 204,
     "metadata": {},
     "output_type": "execute_result"
    }
   ],
   "source": [
    "dfb.stb.missing()"
   ]
  },
  {
   "cell_type": "code",
   "execution_count": 205,
   "metadata": {},
   "outputs": [
    {
     "name": "stdout",
     "output_type": "stream",
     "text": [
      "En la columna year no hay casos nulos.\n",
      "En la columna age no hay casos nulos.\n"
     ]
    }
   ],
   "source": [
    "#comprobamos que ya no existen casos nulos:\n",
    "dfb_numericas = dfb.select_dtypes(include=np.number)\n",
    "\n",
    "for col in dfb_numericas:\n",
    "    if dfb_numericas[col].isnull().sum() != 0:\n",
    "        print(f'En la columna {col} hay {dfb_numericas[col].isnull().sum()} casos nulos.')\n",
    "    else:\n",
    "        print(f'En la columna {col} no hay casos nulos.')"
   ]
  },
  {
   "cell_type": "markdown",
   "metadata": {},
   "source": [
    "- Utilizad el método Iterative Imputer para reemplazar todos los valores nulos de las columnas numéricas."
   ]
  },
  {
   "cell_type": "code",
   "execution_count": 199,
   "metadata": {},
   "outputs": [],
   "source": [
    "df3 = pd.read_csv(\"datos/Limpieza-3.csv\", index_col = 0)"
   ]
  },
  {
   "cell_type": "code",
   "execution_count": 209,
   "metadata": {},
   "outputs": [],
   "source": [
    "def iterative_imputer(df3, estadis):\n",
    "\n",
    "    imputer = IterativeImputer(n_nearest_features = None, initial_strategy = estadis, imputation_order = \"ascending\")\n",
    "\n",
    "    imputer.fit(numericas)\n",
    " \n",
    "    df_numericas_trans = pd.DataFrame(imputer.transform(numericas), columns = numericas.columns)\n",
    "\n",
    "    columnas = df_numericas_trans.columns\n",
    "\n",
    "    df2.drop(columnas, axis = 1, inplace = True)\n",
    "\n",
    "    df2[columnas] = df_numericas_trans[columnas]\n",
    "\n",
    "    return df2"
   ]
  },
  {
   "cell_type": "code",
   "execution_count": 213,
   "metadata": {},
   "outputs": [],
   "source": [
    "df_itim = iterative_imputer(df3, \"mean\")"
   ]
  },
  {
   "cell_type": "code",
   "execution_count": 214,
   "metadata": {},
   "outputs": [
    {
     "data": {
      "text/html": [
       "<div>\n",
       "<style scoped>\n",
       "    .dataframe tbody tr th:only-of-type {\n",
       "        vertical-align: middle;\n",
       "    }\n",
       "\n",
       "    .dataframe tbody tr th {\n",
       "        vertical-align: top;\n",
       "    }\n",
       "\n",
       "    .dataframe thead th {\n",
       "        text-align: right;\n",
       "    }\n",
       "</style>\n",
       "<table border=\"1\" class=\"dataframe\">\n",
       "  <thead>\n",
       "    <tr style=\"text-align: right;\">\n",
       "      <th></th>\n",
       "      <th>missing</th>\n",
       "      <th>total</th>\n",
       "      <th>percent</th>\n",
       "    </tr>\n",
       "  </thead>\n",
       "  <tbody>\n",
       "    <tr>\n",
       "      <th>month</th>\n",
       "      <td>181</td>\n",
       "      <td>1672</td>\n",
       "      <td>10.825359</td>\n",
       "    </tr>\n",
       "    <tr>\n",
       "      <th>species</th>\n",
       "      <td>126</td>\n",
       "      <td>1672</td>\n",
       "      <td>7.535885</td>\n",
       "    </tr>\n",
       "    <tr>\n",
       "      <th>fatal</th>\n",
       "      <td>99</td>\n",
       "      <td>1672</td>\n",
       "      <td>5.921053</td>\n",
       "    </tr>\n",
       "    <tr>\n",
       "      <th>activity</th>\n",
       "      <td>31</td>\n",
       "      <td>1672</td>\n",
       "      <td>1.854067</td>\n",
       "    </tr>\n",
       "    <tr>\n",
       "      <th>type</th>\n",
       "      <td>0</td>\n",
       "      <td>1672</td>\n",
       "      <td>0.000000</td>\n",
       "    </tr>\n",
       "    <tr>\n",
       "      <th>country</th>\n",
       "      <td>0</td>\n",
       "      <td>1672</td>\n",
       "      <td>0.000000</td>\n",
       "    </tr>\n",
       "    <tr>\n",
       "      <th>sex</th>\n",
       "      <td>0</td>\n",
       "      <td>1672</td>\n",
       "      <td>0.000000</td>\n",
       "    </tr>\n",
       "    <tr>\n",
       "      <th>year</th>\n",
       "      <td>0</td>\n",
       "      <td>1672</td>\n",
       "      <td>0.000000</td>\n",
       "    </tr>\n",
       "    <tr>\n",
       "      <th>age</th>\n",
       "      <td>0</td>\n",
       "      <td>1672</td>\n",
       "      <td>0.000000</td>\n",
       "    </tr>\n",
       "  </tbody>\n",
       "</table>\n",
       "</div>"
      ],
      "text/plain": [
       "          missing  total    percent\n",
       "month         181   1672  10.825359\n",
       "species       126   1672   7.535885\n",
       "fatal          99   1672   5.921053\n",
       "activity       31   1672   1.854067\n",
       "type            0   1672   0.000000\n",
       "country         0   1672   0.000000\n",
       "sex             0   1672   0.000000\n",
       "year            0   1672   0.000000\n",
       "age             0   1672   0.000000"
      ]
     },
     "execution_count": 214,
     "metadata": {},
     "output_type": "execute_result"
    }
   ],
   "source": [
    "df_itim.stb.missing()"
   ]
  },
  {
   "cell_type": "code",
   "execution_count": 215,
   "metadata": {},
   "outputs": [
    {
     "name": "stdout",
     "output_type": "stream",
     "text": [
      "En la columna year no hay casos nulos.\n",
      "En la columna age no hay casos nulos.\n"
     ]
    }
   ],
   "source": [
    "df_itim_num = df_itim.select_dtypes(include=np.number)\n",
    "\n",
    "for col in df_itim_num:\n",
    "    if df_itim_num[col].isnull().sum() != 0:\n",
    "        print(f'En la columna {col} hay {df_itim_num[col].isnull().sum()} casos nulos.')\n",
    "    else:\n",
    "        print(f'En la columna {col} no hay casos nulos.')"
   ]
  },
  {
   "cell_type": "markdown",
   "metadata": {},
   "source": [
    "- ¿Podríais explicar qué diferencia hay entre estos dos últimos métodos?"
   ]
  },
  {
   "attachments": {},
   "cell_type": "markdown",
   "metadata": {},
   "source": [
    "Tanto el SimpleImputer como el KNNImputer son modelos pasados en métodos de imputación, es decir, métodos que reemplazan los datos nulos al crear una matriz de datos completa a partir de correlaciones entre valores de la base original (conocidos como \"vecinos\"). \n",
    "\n",
    "La **diferencia entre SimpleImputer y KNNImputer** es que ambos usan diferentes estrategias para calcular estos valores por los que reemplazar a los NA:\n",
    "\n",
    "SimpleImputer reemplaza los NA por valor constante asignado o a través de estadísticos como media, moda (conocido como \"más frecuente\") o la mediana de cada columna en la que se encuentran los valores perdidos. Sin embargo, KNNImputer realiza un cálculo de manera iterativa a partir de los datos disponibles en otras columnas.\n",
    "\n",
    "Por ello, KNNImputer es un modelo más complejo, elaborado y matemáticamente más certero que el SimpleImputer."
   ]
  },
  {
   "cell_type": "markdown",
   "metadata": {},
   "source": [
    "### 2. Guardad el csv para seguir trabajando con el en los siguientes ejercicios de pair."
   ]
  },
  {
   "cell_type": "code",
   "execution_count": null,
   "metadata": {},
   "outputs": [],
   "source": [
    "df.to_csv('datos/Limpieza-5.csv')"
   ]
  }
 ],
 "metadata": {
  "kernelspec": {
   "display_name": "base",
   "language": "python",
   "name": "python3"
  },
  "language_info": {
   "codemirror_mode": {
    "name": "ipython",
    "version": 3
   },
   "file_extension": ".py",
   "mimetype": "text/x-python",
   "name": "python",
   "nbconvert_exporter": "python",
   "pygments_lexer": "ipython3",
   "version": "3.9.12"
  },
  "orig_nbformat": 4,
  "vscode": {
   "interpreter": {
    "hash": "7696c289d06a49fc095d842f95cdcbdec802ba3ef3edc9a84743d0cc9a541988"
   }
  }
 },
 "nbformat": 4,
 "nbformat_minor": 2
}
