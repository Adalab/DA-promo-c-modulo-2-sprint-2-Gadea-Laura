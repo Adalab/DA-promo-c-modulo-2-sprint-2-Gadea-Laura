{
 "cells": [
  {
   "attachments": {},
   "cell_type": "markdown",
   "metadata": {},
   "source": [
    "# Limpieza 2: Strings"
   ]
  },
  {
   "cell_type": "markdown",
   "metadata": {},
   "source": [
    "### Importamos las librerías."
   ]
  },
  {
   "cell_type": "code",
   "execution_count": 210,
   "metadata": {},
   "outputs": [],
   "source": [
    "import pandas as pd\n",
    "import seaborn as sns\n",
    "import numpy as np\n",
    "import matplotlib.pyplot as plt\n",
    "import re\n",
    "\n",
    "pd.options.display.max_columns = None\n",
    "pd.options.display.max_rows = None"
   ]
  },
  {
   "cell_type": "code",
   "execution_count": 211,
   "metadata": {},
   "outputs": [
    {
     "data": {
      "text/html": [
       "<div>\n",
       "<style scoped>\n",
       "    .dataframe tbody tr th:only-of-type {\n",
       "        vertical-align: middle;\n",
       "    }\n",
       "\n",
       "    .dataframe tbody tr th {\n",
       "        vertical-align: top;\n",
       "    }\n",
       "\n",
       "    .dataframe thead th {\n",
       "        text-align: right;\n",
       "    }\n",
       "</style>\n",
       "<table border=\"1\" class=\"dataframe\">\n",
       "  <thead>\n",
       "    <tr style=\"text-align: right;\">\n",
       "      <th></th>\n",
       "      <th>year</th>\n",
       "      <th>type</th>\n",
       "      <th>country</th>\n",
       "      <th>activity</th>\n",
       "      <th>age</th>\n",
       "      <th>species</th>\n",
       "      <th>month</th>\n",
       "      <th>fatal</th>\n",
       "      <th>sex</th>\n",
       "    </tr>\n",
       "    <tr>\n",
       "      <th>case_number</th>\n",
       "      <th></th>\n",
       "      <th></th>\n",
       "      <th></th>\n",
       "      <th></th>\n",
       "      <th></th>\n",
       "      <th></th>\n",
       "      <th></th>\n",
       "      <th></th>\n",
       "      <th></th>\n",
       "    </tr>\n",
       "  </thead>\n",
       "  <tbody>\n",
       "    <tr>\n",
       "      <th>2018.06.25</th>\n",
       "      <td>2018</td>\n",
       "      <td>Boating</td>\n",
       "      <td>usa</td>\n",
       "      <td>Paddling</td>\n",
       "      <td>57</td>\n",
       "      <td>White shark</td>\n",
       "      <td>Jun</td>\n",
       "      <td>N</td>\n",
       "      <td>F</td>\n",
       "    </tr>\n",
       "    <tr>\n",
       "      <th>2018.06.03.a</th>\n",
       "      <td>2018</td>\n",
       "      <td>Unprovoked</td>\n",
       "      <td>brazil</td>\n",
       "      <td>Swimming</td>\n",
       "      <td>18</td>\n",
       "      <td>Tiger shark</td>\n",
       "      <td>Jun</td>\n",
       "      <td>Y</td>\n",
       "      <td>M</td>\n",
       "    </tr>\n",
       "    <tr>\n",
       "      <th>2018.05.26.b</th>\n",
       "      <td>2018</td>\n",
       "      <td>Unprovoked</td>\n",
       "      <td>usa</td>\n",
       "      <td>Walking</td>\n",
       "      <td>15</td>\n",
       "      <td>Bull shark, 6'</td>\n",
       "      <td>May</td>\n",
       "      <td>N</td>\n",
       "      <td>M</td>\n",
       "    </tr>\n",
       "  </tbody>\n",
       "</table>\n",
       "</div>"
      ],
      "text/plain": [
       "              year        type country  activity age         species month  \\\n",
       "case_number                                                                  \n",
       "2018.06.25    2018     Boating     usa  Paddling  57     White shark   Jun   \n",
       "2018.06.03.a  2018  Unprovoked  brazil  Swimming  18     Tiger shark   Jun   \n",
       "2018.05.26.b  2018  Unprovoked     usa   Walking  15  Bull shark, 6'   May   \n",
       "\n",
       "             fatal sex  \n",
       "case_number             \n",
       "2018.06.25       N   F  \n",
       "2018.06.03.a     Y   M  \n",
       "2018.05.26.b     N   M  "
      ]
     },
     "execution_count": 211,
     "metadata": {},
     "output_type": "execute_result"
    }
   ],
   "source": [
    "# Abrimos la BBDD\n",
    "\n",
    "df = pd.read_csv('datos/Limpieza-1.csv', index_col=0)\n",
    "df.head(3)"
   ]
  },
  {
   "cell_type": "code",
   "execution_count": 212,
   "metadata": {},
   "outputs": [],
   "source": [
    "# Realizamos una copia de seguridad\n",
    "\n",
    "df1 = df.copy()"
   ]
  },
  {
   "attachments": {},
   "cell_type": "markdown",
   "metadata": {},
   "source": [
    "#### 1. Columna de species: \n",
    "\n",
    "Si exploramos esta columna en detalle nos podemos dar cuenta que tenemos muchos valores únicos y esto hace que sea muy difícil trabajar con esta columna. Lo que vamos a hacer es clasificar los tiburones en 5 especies diferentes, las más comunes, que incluyen el tiburón blanco (White), el tiburón tigre (Tiger ), el tiburón gris (Grey), el tiburón limón (Lemon) y el tiburón toro (Bull).\n",
    "\n",
    "El resto de las especies las incluiremos en un único grupo que podremos llamar \"Unspecified\"."
   ]
  },
  {
   "cell_type": "code",
   "execution_count": 213,
   "metadata": {},
   "outputs": [],
   "source": [
    "# Creamos una función para detectar todas aquellas coincidencias de las categorías del enunciado mediante regex\n",
    "# Renombramos los valores de la columna, para faciliar su legiblidad\n",
    "# Añadimos un try, except para evitar posibles errores con los valores nulos\n",
    "\n",
    "def clasificar(x):\n",
    "    \n",
    "    patron_blanco = r\".*[Ww](hite|HITE).*\"\n",
    "    patron_tiger = r\".*[Tt](iger|IGER).*\"\n",
    "    patron_gris = r\".*[Gg](rey|REY).*\"\n",
    "    patron_toro = r\".*[Bb](ull|ULL).*\"\n",
    "    patron_lemon = r\".*[Ll](emon|EMON).*\"\n",
    "    \n",
    "    try:\n",
    "        if re.findall(patron_blanco, x):\n",
    "            return x.replace(x, \"White Shark\")\n",
    "        elif re.findall(patron_tiger, x):\n",
    "            return x.replace(x, \"Tiger Shark\")\n",
    "        elif re.findall(patron_gris, x):\n",
    "            return x.replace(x, \"Grey Shark\")\n",
    "        elif re.findall(patron_toro, x):\n",
    "            return x.replace(x, \"Bull Shark\")\n",
    "        elif re.findall(patron_lemon, x):\n",
    "            return x.replace(x, \"Lemon Shark\")\n",
    "\n",
    "        else:\n",
    "            return x.replace(x, \"Unspecified\")\n",
    "\n",
    "    except: \n",
    "        return np.nan"
   ]
  },
  {
   "cell_type": "code",
   "execution_count": 214,
   "metadata": {},
   "outputs": [],
   "source": [
    "# Aplicamos la función\n",
    "\n",
    "df['species'] = df['species'].apply(clasificar)"
   ]
  },
  {
   "cell_type": "code",
   "execution_count": 215,
   "metadata": {},
   "outputs": [
    {
     "data": {
      "text/plain": [
       "array(['White Shark', 'Tiger Shark', 'Bull Shark', 'Grey Shark',\n",
       "       'Unspecified', 'Lemon Shark', nan], dtype=object)"
      ]
     },
     "execution_count": 215,
     "metadata": {},
     "output_type": "execute_result"
    }
   ],
   "source": [
    "# Comprobamos los valores únicos\n",
    "\n",
    "df['species'].unique()"
   ]
  },
  {
   "attachments": {},
   "cell_type": "markdown",
   "metadata": {},
   "source": [
    "##### 2. Columna de age: \n",
    "\n",
    "es una columna de tipo string pero debería ser de tipo integer. \n",
    "\n",
    "Además, en esta columna nos vamos a encontrar con algunos errores tipográficos, estos incluyen:\n",
    "- Edad en formato string\n",
    "- Edades separadas por &, or, to, >\n",
    "- Edades con ?"
   ]
  },
  {
   "attachments": {},
   "cell_type": "markdown",
   "metadata": {},
   "source": [
    "Una vez que hayáis extraido los números, os daréis cuenta que hay celdas que tienen más de una edad. Tendréis que decidir que hacer en esos casos. Os dejamos por aquí una posible opción usando un método de Pandas que os puede resultar super útil. El método explode, aqui.\n",
    "Por último cambiad el tipo de la columna de string a integer."
   ]
  },
  {
   "cell_type": "code",
   "execution_count": 216,
   "metadata": {},
   "outputs": [],
   "source": [
    "# Cambiamos el tipo de los valores de la columna para poder trabajar con ella\n",
    "\n",
    "df['age'] = df['age'].astype(str)"
   ]
  },
  {
   "cell_type": "code",
   "execution_count": 217,
   "metadata": {},
   "outputs": [
    {
     "data": {
      "text/plain": [
       "array(['57', '18', '15', '32', '21', '30', '60', '33', '19', '25', '10',\n",
       "       '69', '55', '35', '20', '54', '22', '31', '40', '37', '11', '13',\n",
       "       '34', '50', '46', '48', '17', '28', '65', '73', '58', '36', '60s',\n",
       "       '51', '61', '59', '42', '6', '27', '23', '29', '39', '24', '12',\n",
       "       '26', '71', '43', '9', '44', '14', '62', '52', '38', '68', '16',\n",
       "       '47', '63', '70', '41', '40s', '53', '20s', '7', '66', '45', '74',\n",
       "       '64', '8', '56', '49', '18 or 20', 'Teen', '30s', '77', '8 or 10',\n",
       "       '84', '\\xa0 ', ' ', '30 or 36', '6½', '5', ' 30', ' 28', \"60's\",\n",
       "       '67', '>50', '? & 19', '21, 34,24 & 35', '30 & 32', '13 or 18',\n",
       "       '7 or 8', '9 or 10', 'nan', 'young', '13 or 14'], dtype=object)"
      ]
     },
     "execution_count": 217,
     "metadata": {},
     "output_type": "execute_result"
    }
   ],
   "source": [
    "# Comprobamos los valores únicos para ver qué patrón de regex debemos utilizar\n",
    "\n",
    "df['age'].unique()"
   ]
  },
  {
   "cell_type": "code",
   "execution_count": 219,
   "metadata": {},
   "outputs": [],
   "source": [
    "# Creamos una función para rescatar sólo los números de los valores\n",
    "\n",
    "def edad(col):\n",
    "    patron_edad = \"\\d+\"\n",
    "    try:\n",
    "        return re.findall(patron_edad, col)[0]\n",
    "    except:\n",
    "        return np.nan"
   ]
  },
  {
   "cell_type": "code",
   "execution_count": 220,
   "metadata": {},
   "outputs": [],
   "source": [
    "# Aplicamos la función\n",
    "\n",
    "df['age'] = df['age'].apply(edad)"
   ]
  },
  {
   "cell_type": "code",
   "execution_count": 221,
   "metadata": {},
   "outputs": [
    {
     "data": {
      "text/plain": [
       "array(['57', '18', '15', '32', '21', '30', '60', '33', '19', '25', '10',\n",
       "       '69', '55', '35', '20', '54', '22', '31', '40', '37', '11', '13',\n",
       "       '34', '50', '46', '48', '17', '28', '65', '73', '58', '36', '51',\n",
       "       '61', '59', '42', '6', '27', '23', '29', '39', '24', '12', '26',\n",
       "       '71', '43', '9', '44', '14', '62', '52', '38', '68', '16', '47',\n",
       "       '63', '70', '41', '53', '7', '66', '45', '74', '64', '8', '56',\n",
       "       '49', nan, '77', '84', '5', '67'], dtype=object)"
      ]
     },
     "execution_count": 221,
     "metadata": {},
     "output_type": "execute_result"
    }
   ],
   "source": [
    "# Comprobamos los valores únicos\n",
    "\n",
    "df[\"age\"].unique()"
   ]
  },
  {
   "cell_type": "code",
   "execution_count": 222,
   "metadata": {},
   "outputs": [],
   "source": [
    "# Volvemos a convertir el tipo de los valores a integers\n",
    "\n",
    "df['age'] = df['age'].astype(\"int64\", errors = 'ignore')"
   ]
  },
  {
   "cell_type": "markdown",
   "metadata": {},
   "source": [
    "- Optamos por dar cómo nulos aquellas filas con más de un valor, ya que sin más información, no sabemos qué valor es el correcto."
   ]
  },
  {
   "attachments": {},
   "cell_type": "markdown",
   "metadata": {},
   "source": [
    "#### 3. Guarda el csv con las columnas limpias para seguir trabajando con este dataframe limpio."
   ]
  },
  {
   "cell_type": "code",
   "execution_count": 224,
   "metadata": {},
   "outputs": [],
   "source": [
    "df.to_csv(\"datos/Limpieza-2.csv\", index = False)"
   ]
  }
 ],
 "metadata": {
  "kernelspec": {
   "display_name": "Python 3.9.7 ('base')",
   "language": "python",
   "name": "python3"
  },
  "language_info": {
   "codemirror_mode": {
    "name": "ipython",
    "version": 3
   },
   "file_extension": ".py",
   "mimetype": "text/x-python",
   "name": "python",
   "nbconvert_exporter": "python",
   "pygments_lexer": "ipython3",
   "version": "3.9.7"
  },
  "orig_nbformat": 4,
  "vscode": {
   "interpreter": {
    "hash": "a132548e790cb25f951c67ed157520233be95043d6eb3836371ed4d98e90df31"
   }
  }
 },
 "nbformat": 4,
 "nbformat_minor": 2
}
