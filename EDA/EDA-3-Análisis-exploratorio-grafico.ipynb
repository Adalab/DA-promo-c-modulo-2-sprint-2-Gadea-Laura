{
 "cells": [
  {
   "attachments": {},
   "cell_type": "markdown",
   "metadata": {},
   "source": [
    "# EDA 3: Análisis exploratorio gráfico"
   ]
  },
  {
   "cell_type": "markdown",
   "metadata": {},
   "source": [
    "Es el momento de hacer una buena exploración visual de los datos para entender un poquito mejor el dataset. Para ello trabajaremos con la librería matplotlib y seaborn."
   ]
  },
  {
   "cell_type": "code",
   "execution_count": 2,
   "metadata": {},
   "outputs": [],
   "source": [
    "#importamos las librerías\n",
    "import pandas as pd\n",
    "import numpy as np\n",
    "import seaborn as sns\n",
    "import sidetable as stb\n",
    "import matplotlib.pyplot as plt\n",
    "\n",
    "import warnings\n",
    "warnings.filterwarnings('ignore')"
   ]
  },
  {
   "cell_type": "markdown",
   "metadata": {},
   "source": [
    "### Objetivos\n",
    "\n",
    " En el ejercicio de hoy tendremos que contestar a las siguientes preguntas:\n",
    " 📌 Nota Como siempre, después de cada gráfica incluid una pequeña explicación de lo que nos está mostrando la gráfica.\n",
    "\n",
    "#### 1. Estableced el tamaño de las figuras al inicio de vuestro jupyter para que todas tengan las mismas dimensiones."
   ]
  },
  {
   "cell_type": "code",
   "execution_count": 3,
   "metadata": {},
   "outputs": [],
   "source": [
    "plt.rcParams[\"figure.figsize\"] = (16,8)"
   ]
  },
  {
   "cell_type": "code",
   "execution_count": 4,
   "metadata": {},
   "outputs": [
    {
     "data": {
      "text/html": [
       "<div>\n",
       "<style scoped>\n",
       "    .dataframe tbody tr th:only-of-type {\n",
       "        vertical-align: middle;\n",
       "    }\n",
       "\n",
       "    .dataframe tbody tr th {\n",
       "        vertical-align: top;\n",
       "    }\n",
       "\n",
       "    .dataframe thead th {\n",
       "        text-align: right;\n",
       "    }\n",
       "</style>\n",
       "<table border=\"1\" class=\"dataframe\">\n",
       "  <thead>\n",
       "    <tr style=\"text-align: right;\">\n",
       "      <th></th>\n",
       "      <th>type</th>\n",
       "      <th>country</th>\n",
       "      <th>activity</th>\n",
       "      <th>age</th>\n",
       "      <th>species</th>\n",
       "      <th>month</th>\n",
       "      <th>fatal</th>\n",
       "      <th>sex</th>\n",
       "    </tr>\n",
       "    <tr>\n",
       "      <th>year</th>\n",
       "      <th></th>\n",
       "      <th></th>\n",
       "      <th></th>\n",
       "      <th></th>\n",
       "      <th></th>\n",
       "      <th></th>\n",
       "      <th></th>\n",
       "      <th></th>\n",
       "    </tr>\n",
       "  </thead>\n",
       "  <tbody>\n",
       "    <tr>\n",
       "      <th>2018</th>\n",
       "      <td>Boating</td>\n",
       "      <td>usa</td>\n",
       "      <td>Paddling</td>\n",
       "      <td>57.0</td>\n",
       "      <td>White Shark</td>\n",
       "      <td>Jun</td>\n",
       "      <td>N</td>\n",
       "      <td>F</td>\n",
       "    </tr>\n",
       "    <tr>\n",
       "      <th>2018</th>\n",
       "      <td>Unprovoked</td>\n",
       "      <td>brazil</td>\n",
       "      <td>Swimming</td>\n",
       "      <td>18.0</td>\n",
       "      <td>Tiger Shark</td>\n",
       "      <td>Jun</td>\n",
       "      <td>Y</td>\n",
       "      <td>M</td>\n",
       "    </tr>\n",
       "  </tbody>\n",
       "</table>\n",
       "</div>"
      ],
      "text/plain": [
       "            type country  activity   age      species month fatal sex\n",
       "year                                                                 \n",
       "2018     Boating     usa  Paddling  57.0  White Shark   Jun     N   F\n",
       "2018  Unprovoked  brazil  Swimming  18.0  Tiger Shark   Jun     Y   M"
      ]
     },
     "execution_count": 4,
     "metadata": {},
     "output_type": "execute_result"
    }
   ],
   "source": [
    "df = pd.read_csv(\"datos/Limpieza-2.csv\", index_col=0)\n",
    "df.head(2)"
   ]
  },
  {
   "cell_type": "markdown",
   "metadata": {},
   "source": [
    "#### 2. Manos a la obra con los plots, estos irán muy dirigidos hacia las preguntas que queremos contestar, para hacer una primera aproximación a nuestras hipótesis:\n",
    "\n",
    "- ¿Cuántos ataques hubo por pais? ¿Se puede ver algo claro si ploteamos todos los paises? En caso de que no, seleccionad solo los 10 paises con más ataques y volved a hacer el plot."
   ]
  },
  {
   "cell_type": "code",
   "execution_count": 5,
   "metadata": {},
   "outputs": [
    {
     "data": {
      "text/html": [
       "<div>\n",
       "<style scoped>\n",
       "    .dataframe tbody tr th:only-of-type {\n",
       "        vertical-align: middle;\n",
       "    }\n",
       "\n",
       "    .dataframe tbody tr th {\n",
       "        vertical-align: top;\n",
       "    }\n",
       "\n",
       "    .dataframe thead th {\n",
       "        text-align: right;\n",
       "    }\n",
       "</style>\n",
       "<table border=\"1\" class=\"dataframe\">\n",
       "  <thead>\n",
       "    <tr style=\"text-align: right;\">\n",
       "      <th></th>\n",
       "      <th>country</th>\n",
       "      <th>count</th>\n",
       "      <th>percent</th>\n",
       "      <th>cumulative_count</th>\n",
       "      <th>cumulative_percent</th>\n",
       "    </tr>\n",
       "  </thead>\n",
       "  <tbody>\n",
       "    <tr>\n",
       "      <th>0</th>\n",
       "      <td>usa</td>\n",
       "      <td>741</td>\n",
       "      <td>44.584838</td>\n",
       "      <td>741</td>\n",
       "      <td>44.584838</td>\n",
       "    </tr>\n",
       "    <tr>\n",
       "      <th>1</th>\n",
       "      <td>australia</td>\n",
       "      <td>343</td>\n",
       "      <td>20.637786</td>\n",
       "      <td>1084</td>\n",
       "      <td>65.222623</td>\n",
       "    </tr>\n",
       "    <tr>\n",
       "      <th>2</th>\n",
       "      <td>south africa</td>\n",
       "      <td>234</td>\n",
       "      <td>14.079422</td>\n",
       "      <td>1318</td>\n",
       "      <td>79.302046</td>\n",
       "    </tr>\n",
       "    <tr>\n",
       "      <th>3</th>\n",
       "      <td>bahamas</td>\n",
       "      <td>29</td>\n",
       "      <td>1.744886</td>\n",
       "      <td>1347</td>\n",
       "      <td>81.046931</td>\n",
       "    </tr>\n",
       "    <tr>\n",
       "      <th>4</th>\n",
       "      <td>new zealand</td>\n",
       "      <td>21</td>\n",
       "      <td>1.263538</td>\n",
       "      <td>1368</td>\n",
       "      <td>82.310469</td>\n",
       "    </tr>\n",
       "    <tr>\n",
       "      <th>...</th>\n",
       "      <td>...</td>\n",
       "      <td>...</td>\n",
       "      <td>...</td>\n",
       "      <td>...</td>\n",
       "      <td>...</td>\n",
       "    </tr>\n",
       "    <tr>\n",
       "      <th>90</th>\n",
       "      <td>between portugal &amp; india</td>\n",
       "      <td>1</td>\n",
       "      <td>0.060168</td>\n",
       "      <td>1658</td>\n",
       "      <td>99.759326</td>\n",
       "    </tr>\n",
       "    <tr>\n",
       "      <th>91</th>\n",
       "      <td>belize</td>\n",
       "      <td>1</td>\n",
       "      <td>0.060168</td>\n",
       "      <td>1659</td>\n",
       "      <td>99.819495</td>\n",
       "    </tr>\n",
       "    <tr>\n",
       "      <th>92</th>\n",
       "      <td>bahrein</td>\n",
       "      <td>1</td>\n",
       "      <td>0.060168</td>\n",
       "      <td>1660</td>\n",
       "      <td>99.879663</td>\n",
       "    </tr>\n",
       "    <tr>\n",
       "      <th>93</th>\n",
       "      <td>asia?</td>\n",
       "      <td>1</td>\n",
       "      <td>0.060168</td>\n",
       "      <td>1661</td>\n",
       "      <td>99.939832</td>\n",
       "    </tr>\n",
       "    <tr>\n",
       "      <th>94</th>\n",
       "      <td>argentina</td>\n",
       "      <td>1</td>\n",
       "      <td>0.060168</td>\n",
       "      <td>1662</td>\n",
       "      <td>100.000000</td>\n",
       "    </tr>\n",
       "  </tbody>\n",
       "</table>\n",
       "<p>95 rows × 5 columns</p>\n",
       "</div>"
      ],
      "text/plain": [
       "                     country  count    percent  cumulative_count  \\\n",
       "0                        usa    741  44.584838               741   \n",
       "1                  australia    343  20.637786              1084   \n",
       "2               south africa    234  14.079422              1318   \n",
       "3                    bahamas     29   1.744886              1347   \n",
       "4                new zealand     21   1.263538              1368   \n",
       "..                       ...    ...        ...               ...   \n",
       "90  between portugal & india      1   0.060168              1658   \n",
       "91                    belize      1   0.060168              1659   \n",
       "92                   bahrein      1   0.060168              1660   \n",
       "93                     asia?      1   0.060168              1661   \n",
       "94                 argentina      1   0.060168              1662   \n",
       "\n",
       "    cumulative_percent  \n",
       "0            44.584838  \n",
       "1            65.222623  \n",
       "2            79.302046  \n",
       "3            81.046931  \n",
       "4            82.310469  \n",
       "..                 ...  \n",
       "90           99.759326  \n",
       "91           99.819495  \n",
       "92           99.879663  \n",
       "93           99.939832  \n",
       "94          100.000000  \n",
       "\n",
       "[95 rows x 5 columns]"
      ]
     },
     "execution_count": 5,
     "metadata": {},
     "output_type": "execute_result"
    }
   ],
   "source": [
    "# Creamos una tabla de frecuencia para ver cuántos países tenemos, y qué porcentaje ocupan cada uno:\n",
    "\n",
    "df_attack = df.stb.freq([\"country\"])\n",
    "df_attack"
   ]
  },
  {
   "cell_type": "markdown",
   "metadata": {},
   "source": [
    "Hay muchos países dónde solo se ha realizado un ataque, por lo que plotear todos los países sería ineficiente para hacer una representación gráfica entendible."
   ]
  },
  {
   "cell_type": "code",
   "execution_count": 6,
   "metadata": {},
   "outputs": [
    {
     "data": {
      "text/plain": [
       "array(['usa', 'australia', 'south africa', 'bahamas', 'new zealand',\n",
       "       'reunion', 'papua new guinea', 'brazil', 'mexico', 'italy'],\n",
       "      dtype=object)"
      ]
     },
     "execution_count": 6,
     "metadata": {},
     "output_type": "execute_result"
    }
   ],
   "source": [
    "# Nos quedamos con los 10 países mas peligrosos:\n",
    "\n",
    "df_10 = df_attack.iloc[:10]\n",
    "df_10['country'].unique()"
   ]
  },
  {
   "cell_type": "code",
   "execution_count": 7,
   "metadata": {},
   "outputs": [
    {
     "data": {
      "text/plain": [
       "['usa',\n",
       " 'australia',\n",
       " 'south africa',\n",
       " 'bahamas',\n",
       " 'new zealand',\n",
       " 'reunion',\n",
       " 'papua new guinea',\n",
       " 'brazil',\n",
       " 'mexico',\n",
       " 'italy']"
      ]
     },
     "execution_count": 7,
     "metadata": {},
     "output_type": "execute_result"
    }
   ],
   "source": [
    "# Creamos una lista:\n",
    "\n",
    "lista_paises = list(df_10['country'].unique())\n",
    "lista_paises"
   ]
  },
  {
   "cell_type": "code",
   "execution_count": 8,
   "metadata": {},
   "outputs": [
    {
     "data": {
      "text/plain": [
       "array(['usa', 'brazil', 'australia', 'south africa', 'bahamas',\n",
       "       'new zealand', 'reunion', 'mexico', 'italy', 'papua new guinea'],\n",
       "      dtype=object)"
      ]
     },
     "execution_count": 8,
     "metadata": {},
     "output_type": "execute_result"
    }
   ],
   "source": [
    "# Utilizamos el método isin para quedarnos sólo los registros que coincidan con nuestra lista de países:\n",
    "\n",
    "df_country = df[df[\"country\"].isin(lista_paises)]\n",
    "df_country['country'].unique()"
   ]
  },
  {
   "cell_type": "code",
   "execution_count": 9,
   "metadata": {},
   "outputs": [
    {
     "data": {
      "image/png": "[encoded data removed]",
      "text/plain": [
       "<Figure size 1152x576 with 1 Axes>"
      ]
     },
     "metadata": {
      "needs_background": "light"
     },
     "output_type": "display_data"
    }
   ],
   "source": [
    "sns.countplot(x = df_country['country'], palette = \"rocket\")\n",
    "\n",
    "plt.title(\" Cantidad de casos en los 10 países más peligrosos\", fontsize = 16)\n",
    "plt.xlabel(\"Países\", fontsize = 14)\n",
    "plt.ylabel(\"Número de ataques\", fontsize = 14)\n",
    "\n",
    "plt.show()"
   ]
  },
  {
   "cell_type": "markdown",
   "metadata": {},
   "source": [
    "- Usando el DataFrame de los 10 paises con más ataques, ¿hay diferencias entre sexos en esos paises?"
   ]
  },
  {
   "cell_type": "code",
   "execution_count": 10,
   "metadata": {},
   "outputs": [
    {
     "data": {
      "image/png": "[encoded data removed]",
      "text/plain": [
       "<Figure size 1152x576 with 1 Axes>"
      ]
     },
     "metadata": {
      "needs_background": "light"
     },
     "output_type": "display_data"
    }
   ],
   "source": [
    "sns.countplot(x = df_country['country'], hue = df_country[\"sex\"], palette = 'rocket')\n",
    "\n",
    "plt.title(\" Cantidad de casos en los 10 países más peligrosos en relación al sexo\", fontsize = 16)\n",
    "plt.xlabel(\"Países\", fontsize = 14)\n",
    "plt.ylabel(\"Número de ataques\", fontsize = 14)\n",
    "\n",
    "plt.show()"
   ]
  },
  {
   "cell_type": "markdown",
   "metadata": {},
   "source": [
    "- ¿Qué edad recibe mayor número de ataques? \n",
    "\n",
    "💡 Pista 💡 Para que esta gráfica nos salga legible tendremos que crear antes grupos de edad. Para hacer esto de una forma sencilla tenemos el método pd.cut() que aprendimos en la lección de Limpieza II."
   ]
  },
  {
   "cell_type": "code",
   "execution_count": 11,
   "metadata": {},
   "outputs": [
    {
     "data": {
      "text/html": [
       "<div>\n",
       "<style scoped>\n",
       "    .dataframe tbody tr th:only-of-type {\n",
       "        vertical-align: middle;\n",
       "    }\n",
       "\n",
       "    .dataframe tbody tr th {\n",
       "        vertical-align: top;\n",
       "    }\n",
       "\n",
       "    .dataframe thead th {\n",
       "        text-align: right;\n",
       "    }\n",
       "</style>\n",
       "<table border=\"1\" class=\"dataframe\">\n",
       "  <thead>\n",
       "    <tr style=\"text-align: right;\">\n",
       "      <th></th>\n",
       "      <th>type</th>\n",
       "      <th>country</th>\n",
       "      <th>activity</th>\n",
       "      <th>age</th>\n",
       "      <th>species</th>\n",
       "      <th>month</th>\n",
       "      <th>fatal</th>\n",
       "      <th>sex</th>\n",
       "      <th>range</th>\n",
       "    </tr>\n",
       "    <tr>\n",
       "      <th>year</th>\n",
       "      <th></th>\n",
       "      <th></th>\n",
       "      <th></th>\n",
       "      <th></th>\n",
       "      <th></th>\n",
       "      <th></th>\n",
       "      <th></th>\n",
       "      <th></th>\n",
       "      <th></th>\n",
       "    </tr>\n",
       "  </thead>\n",
       "  <tbody>\n",
       "    <tr>\n",
       "      <th>2018</th>\n",
       "      <td>Boating</td>\n",
       "      <td>usa</td>\n",
       "      <td>Paddling</td>\n",
       "      <td>57.0</td>\n",
       "      <td>White Shark</td>\n",
       "      <td>Jun</td>\n",
       "      <td>N</td>\n",
       "      <td>F</td>\n",
       "      <td>Grupo C</td>\n",
       "    </tr>\n",
       "    <tr>\n",
       "      <th>2018</th>\n",
       "      <td>Unprovoked</td>\n",
       "      <td>brazil</td>\n",
       "      <td>Swimming</td>\n",
       "      <td>18.0</td>\n",
       "      <td>Tiger Shark</td>\n",
       "      <td>Jun</td>\n",
       "      <td>Y</td>\n",
       "      <td>M</td>\n",
       "      <td>Grupo A</td>\n",
       "    </tr>\n",
       "    <tr>\n",
       "      <th>2018</th>\n",
       "      <td>Unprovoked</td>\n",
       "      <td>usa</td>\n",
       "      <td>Walking</td>\n",
       "      <td>15.0</td>\n",
       "      <td>Bull Shark</td>\n",
       "      <td>May</td>\n",
       "      <td>N</td>\n",
       "      <td>M</td>\n",
       "      <td>Grupo A</td>\n",
       "    </tr>\n",
       "    <tr>\n",
       "      <th>2018</th>\n",
       "      <td>Provoked</td>\n",
       "      <td>australia</td>\n",
       "      <td>Feeding sharks</td>\n",
       "      <td>32.0</td>\n",
       "      <td>Grey Shark</td>\n",
       "      <td>May</td>\n",
       "      <td>N</td>\n",
       "      <td>M</td>\n",
       "      <td>Grupo B</td>\n",
       "    </tr>\n",
       "    <tr>\n",
       "      <th>2018</th>\n",
       "      <td>Unprovoked</td>\n",
       "      <td>australia</td>\n",
       "      <td>Surfing</td>\n",
       "      <td>60.0</td>\n",
       "      <td>Unspecified</td>\n",
       "      <td>Apr</td>\n",
       "      <td>N</td>\n",
       "      <td>M</td>\n",
       "      <td>Grupo C</td>\n",
       "    </tr>\n",
       "  </tbody>\n",
       "</table>\n",
       "</div>"
      ],
      "text/plain": [
       "            type    country        activity   age      species month fatal  \\\n",
       "year                                                                         \n",
       "2018     Boating        usa        Paddling  57.0  White Shark   Jun     N   \n",
       "2018  Unprovoked     brazil        Swimming  18.0  Tiger Shark   Jun     Y   \n",
       "2018  Unprovoked        usa         Walking  15.0   Bull Shark   May     N   \n",
       "2018    Provoked  australia  Feeding sharks  32.0   Grey Shark   May     N   \n",
       "2018  Unprovoked  australia         Surfing  60.0  Unspecified   Apr     N   \n",
       "\n",
       "     sex    range  \n",
       "year               \n",
       "2018   F  Grupo C  \n",
       "2018   M  Grupo A  \n",
       "2018   M  Grupo A  \n",
       "2018   M  Grupo B  \n",
       "2018   M  Grupo C  "
      ]
     },
     "execution_count": 11,
     "metadata": {},
     "output_type": "execute_result"
    }
   ],
   "source": [
    "# Utilizamos el método cut para separar nuestros registros en 4 rangos de edad, por el momento les llamamos Grupo X, porqué aún no sabemos dónde hará el corte:\n",
    "\n",
    "df_country['range'] = pd.cut(x = df_country['age'], bins = 4, labels = ['Grupo A', 'Grupo B', 'Grupo C', 'Grupo D'])\n",
    "df_country.head()"
   ]
  },
  {
   "cell_type": "code",
   "execution_count": 12,
   "metadata": {},
   "outputs": [
    {
     "data": {
      "text/plain": [
       "array([18., 15., 19., 10., 20., 13., 17., 21.,  6., 22., 23., 12., 11.,\n",
       "        9., 14., 16.,  7., 24.,  8.,  5.])"
      ]
     },
     "execution_count": 12,
     "metadata": {},
     "output_type": "execute_result"
    }
   ],
   "source": [
    "# Comprobamos qué rango de edad agrupa cada grupo:\n",
    "\n",
    "grupo_A = df_country[(df_country['range'] == \"Grupo A\")]\n",
    "grupo_A[\"age\"].unique()"
   ]
  },
  {
   "cell_type": "code",
   "execution_count": 13,
   "metadata": {},
   "outputs": [
    {
     "data": {
      "text/plain": [
       "array([32., 33., 25., 35., 31., 40., 37., 34., 28., 36., 42., 27., 29.,\n",
       "       39., 43., 44., 38., 26., 41., 30.])"
      ]
     },
     "execution_count": 13,
     "metadata": {},
     "output_type": "execute_result"
    }
   ],
   "source": [
    "grupo_B = df_country[(df_country['range'] == \"Grupo B\")]\n",
    "grupo_B[\"age\"].unique()"
   ]
  },
  {
   "cell_type": "code",
   "execution_count": 14,
   "metadata": {},
   "outputs": [
    {
     "data": {
      "text/plain": [
       "array([57., 60., 55., 54., 50., 46., 48., 58., 51., 61., 59., 62., 52.,\n",
       "       47., 63., 53., 45., 64., 56., 49.])"
      ]
     },
     "execution_count": 14,
     "metadata": {},
     "output_type": "execute_result"
    }
   ],
   "source": [
    "grupo_C = df_country[(df_country['range'] == \"Grupo C\")]\n",
    "grupo_C[\"age\"].unique()"
   ]
  },
  {
   "cell_type": "code",
   "execution_count": 15,
   "metadata": {},
   "outputs": [
    {
     "data": {
      "text/plain": [
       "array([69., 65., 73., 71., 68., 70., 66., 74., 77., 84., 67.])"
      ]
     },
     "execution_count": 15,
     "metadata": {},
     "output_type": "execute_result"
    }
   ],
   "source": [
    "grupo_D = df_country[(df_country['range'] == \"Grupo D\")]\n",
    "grupo_D[\"age\"].unique()"
   ]
  },
  {
   "cell_type": "code",
   "execution_count": 16,
   "metadata": {},
   "outputs": [
    {
     "data": {
      "text/html": [
       "<div>\n",
       "<style scoped>\n",
       "    .dataframe tbody tr th:only-of-type {\n",
       "        vertical-align: middle;\n",
       "    }\n",
       "\n",
       "    .dataframe tbody tr th {\n",
       "        vertical-align: top;\n",
       "    }\n",
       "\n",
       "    .dataframe thead th {\n",
       "        text-align: right;\n",
       "    }\n",
       "</style>\n",
       "<table border=\"1\" class=\"dataframe\">\n",
       "  <thead>\n",
       "    <tr style=\"text-align: right;\">\n",
       "      <th></th>\n",
       "      <th>type</th>\n",
       "      <th>country</th>\n",
       "      <th>activity</th>\n",
       "      <th>age</th>\n",
       "      <th>species</th>\n",
       "      <th>month</th>\n",
       "      <th>fatal</th>\n",
       "      <th>sex</th>\n",
       "      <th>range</th>\n",
       "    </tr>\n",
       "    <tr>\n",
       "      <th>year</th>\n",
       "      <th></th>\n",
       "      <th></th>\n",
       "      <th></th>\n",
       "      <th></th>\n",
       "      <th></th>\n",
       "      <th></th>\n",
       "      <th></th>\n",
       "      <th></th>\n",
       "      <th></th>\n",
       "    </tr>\n",
       "  </thead>\n",
       "  <tbody>\n",
       "    <tr>\n",
       "      <th>2018</th>\n",
       "      <td>Boating</td>\n",
       "      <td>usa</td>\n",
       "      <td>Paddling</td>\n",
       "      <td>57.0</td>\n",
       "      <td>White Shark</td>\n",
       "      <td>Jun</td>\n",
       "      <td>N</td>\n",
       "      <td>F</td>\n",
       "      <td>45-64</td>\n",
       "    </tr>\n",
       "    <tr>\n",
       "      <th>2018</th>\n",
       "      <td>Unprovoked</td>\n",
       "      <td>brazil</td>\n",
       "      <td>Swimming</td>\n",
       "      <td>18.0</td>\n",
       "      <td>Tiger Shark</td>\n",
       "      <td>Jun</td>\n",
       "      <td>Y</td>\n",
       "      <td>M</td>\n",
       "      <td>0-24</td>\n",
       "    </tr>\n",
       "    <tr>\n",
       "      <th>2018</th>\n",
       "      <td>Unprovoked</td>\n",
       "      <td>usa</td>\n",
       "      <td>Walking</td>\n",
       "      <td>15.0</td>\n",
       "      <td>Bull Shark</td>\n",
       "      <td>May</td>\n",
       "      <td>N</td>\n",
       "      <td>M</td>\n",
       "      <td>0-24</td>\n",
       "    </tr>\n",
       "    <tr>\n",
       "      <th>2018</th>\n",
       "      <td>Provoked</td>\n",
       "      <td>australia</td>\n",
       "      <td>Feeding sharks</td>\n",
       "      <td>32.0</td>\n",
       "      <td>Grey Shark</td>\n",
       "      <td>May</td>\n",
       "      <td>N</td>\n",
       "      <td>M</td>\n",
       "      <td>25-44</td>\n",
       "    </tr>\n",
       "    <tr>\n",
       "      <th>2018</th>\n",
       "      <td>Unprovoked</td>\n",
       "      <td>australia</td>\n",
       "      <td>Surfing</td>\n",
       "      <td>60.0</td>\n",
       "      <td>Unspecified</td>\n",
       "      <td>Apr</td>\n",
       "      <td>N</td>\n",
       "      <td>M</td>\n",
       "      <td>45-64</td>\n",
       "    </tr>\n",
       "  </tbody>\n",
       "</table>\n",
       "</div>"
      ],
      "text/plain": [
       "            type    country        activity   age      species month fatal  \\\n",
       "year                                                                         \n",
       "2018     Boating        usa        Paddling  57.0  White Shark   Jun     N   \n",
       "2018  Unprovoked     brazil        Swimming  18.0  Tiger Shark   Jun     Y   \n",
       "2018  Unprovoked        usa         Walking  15.0   Bull Shark   May     N   \n",
       "2018    Provoked  australia  Feeding sharks  32.0   Grey Shark   May     N   \n",
       "2018  Unprovoked  australia         Surfing  60.0  Unspecified   Apr     N   \n",
       "\n",
       "     sex  range  \n",
       "year             \n",
       "2018   F  45-64  \n",
       "2018   M   0-24  \n",
       "2018   M   0-24  \n",
       "2018   M  25-44  \n",
       "2018   M  45-64  "
      ]
     },
     "execution_count": 16,
     "metadata": {},
     "output_type": "execute_result"
    }
   ],
   "source": [
    "# Repetimos el método cut para que sea más eficiente y legigle a la hora de analizar los datos:\n",
    "\n",
    "df_country['range'] = pd.cut(x = df_country['age'], bins = 4, labels = ['0-24', '25-44', '45-64', '65-90'])\n",
    "df_country.head()"
   ]
  },
  {
   "cell_type": "code",
   "execution_count": 17,
   "metadata": {},
   "outputs": [
    {
     "data": {
      "image/png": "[encoded data removed]",
      "text/plain": [
       "<Figure size 1152x576 with 1 Axes>"
      ]
     },
     "metadata": {
      "needs_background": "light"
     },
     "output_type": "display_data"
    }
   ],
   "source": [
    "sns.countplot(x = df_country['range'], palette= 'rocket')\n",
    "\n",
    "plt.title(\" Cantidad de casos en los 10 países más peligrosos por rango de edad\", fontsize = 16)\n",
    "plt.xlabel(\"Rango de edad\", fontsize = 14)\n",
    "plt.ylabel(\"Número de ataques\", fontsize = 14)\n",
    "\n",
    "plt.show()"
   ]
  },
  {
   "cell_type": "markdown",
   "metadata": {},
   "source": [
    "- Ataques entre sexos, ¿hay diferencia?"
   ]
  },
  {
   "cell_type": "code",
   "execution_count": 18,
   "metadata": {},
   "outputs": [
    {
     "data": {
      "image/png": "[encoded data removed]",
      "text/plain": [
       "<Figure size 1152x576 with 1 Axes>"
      ]
     },
     "metadata": {
      "needs_background": "light"
     },
     "output_type": "display_data"
    }
   ],
   "source": [
    "sns.countplot(x = df_country['range'], hue = df_country['sex'], palette = 'rocket')\n",
    "\n",
    "plt.title(\" Cantidad de casos en los 10 países más peligrosos por rango de edad y sexo\", fontsize = 16)\n",
    "plt.xlabel(\"Rango de edad\", fontsize = 14)\n",
    "plt.ylabel(\"Número de ataques\", fontsize = 14)\n",
    "\n",
    "plt.show()"
   ]
  },
  {
   "cell_type": "markdown",
   "metadata": {},
   "source": [
    "- ¿Cuando ocurren más ataques? ¿Os sale algo raro en la gráfica? Intentad limpiar un poco los datos para que os salga mejor."
   ]
  },
  {
   "cell_type": "code",
   "execution_count": 19,
   "metadata": {},
   "outputs": [
    {
     "data": {
      "image/png": "[encoded data removed]",
      "text/plain": [
       "<Figure size 1152x576 with 1 Axes>"
      ]
     },
     "metadata": {
      "needs_background": "light"
     },
     "output_type": "display_data"
    }
   ],
   "source": [
    "sns.countplot(x = df_country['month'], palette = 'rocket')\n",
    "\n",
    "plt.title(\" Cantidad de casos en los 10 países más peligrosos por meses del año\", fontsize = 16)\n",
    "plt.xlabel(\"Meses\", fontsize = 14)\n",
    "plt.ylabel(\"Número de ataques\", fontsize = 14)\n",
    "\n",
    "plt.show()"
   ]
  },
  {
   "cell_type": "markdown",
   "metadata": {},
   "source": [
    "Podríamos hacer más gráficas para seguir explorando nuestras hipótesis, pero tenemos el tiempo limitado 😢. Aún así, sentiros libres de explorar todo lo que queráis vuestros datos para entenderlos mejor 😉."
   ]
  }
 ],
 "metadata": {
  "kernelspec": {
   "display_name": "Python 3",
   "language": "python",
   "name": "python3"
  },
  "language_info": {
   "codemirror_mode": {
    "name": "ipython",
    "version": 3
   },
   "file_extension": ".py",
   "mimetype": "text/x-python",
   "name": "python",
   "nbconvert_exporter": "python",
   "pygments_lexer": "ipython3",
   "version": "3.9.1 (default, Jan 10 2023, 16:36:13) \n[Clang 14.0.0 (clang-1400.0.29.202)]"
  },
  "orig_nbformat": 4,
  "vscode": {
   "interpreter": {
    "hash": "77e65e9c7571c075be141a5694f1882fd5e8e0d0edb21648a3419d64382fbf17"
   }
  }
 },
 "nbformat": 4,
 "nbformat_minor": 2
}
